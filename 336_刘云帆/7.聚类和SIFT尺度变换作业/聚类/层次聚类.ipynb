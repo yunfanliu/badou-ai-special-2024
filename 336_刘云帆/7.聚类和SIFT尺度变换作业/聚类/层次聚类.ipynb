{
 "cells": [
  {
   "cell_type": "markdown",
   "source": [
    "目的：对目标数据层次聚类\n",
    "\n",
    "这里给出采用最小距离的凝聚层次聚类算法流程：\n",
    "\n",
    "(1) 将每个对象看作一类，计算两两之间的最小距离；\n",
    "(2) 将距离最小的两个类合并成一个新类；\n",
    "(3) 重新计算新类与所有类之间的距离；\n",
    "(4) 重复(2)、(3)，直到所有类最后合并成一类。\n"
   ],
   "metadata": {
    "collapsed": false
   },
   "id": "868b386e6e0ffd43"
  },
  {
   "cell_type": "markdown",
   "source": [
    "1. 导入需要用到的包"
   ],
   "metadata": {
    "collapsed": false
   },
   "id": "b16a026c8e9e9359"
  },
  {
   "cell_type": "code",
   "execution_count": 1,
   "id": "initial_id",
   "metadata": {
    "collapsed": true,
    "ExecuteTime": {
     "end_time": "2024-05-24T09:59:28.230995Z",
     "start_time": "2024-05-24T09:59:27.189372Z"
    }
   },
   "outputs": [
    {
     "data": {
      "text/plain": "'\\nfcluster(Z, t, criterion=’inconsistent’, depth=2, R=None, monocrit=None) \\n1.第一个参数Z是linkage得到的矩阵,记录了层次聚类的层次信息; \\n2.t是一个聚类的阈值-“The threshold to apply when forming flat clusters”。\\n'"
     },
     "execution_count": 1,
     "metadata": {},
     "output_type": "execute_result"
    }
   ],
   "source": [
    "#导入相应的包\n",
    "from scipy.cluster.hierarchy import dendrogram, linkage,fcluster\n",
    "from matplotlib import pyplot as plt\n",
    "\n",
    "'''\n",
    "linkage(y, method=’single’, metric=’euclidean’) 共包含3个参数: \n",
    "1. y是距离矩阵,可以是1维压缩向量（距离向量），也可以是2维观测向量（坐标矩阵）。\n",
    "若y是1维压缩向量，则y必须是n个初始观测值的组合，n是坐标矩阵中成对的观测值。\n",
    "2. method是指计算类间距离的方法。\n",
    "\n",
    "'''\n",
    "'''\n",
    "fcluster(Z, t, criterion=’inconsistent’, depth=2, R=None, monocrit=None) \n",
    "1.第一个参数Z是linkage得到的矩阵,记录了层次聚类的层次信息; \n",
    "2.t是一个聚类的阈值-“The threshold to apply when forming flat clusters”。\n",
    "'''"
   ]
  },
  {
   "cell_type": "markdown",
   "source": [
    "2. 调用包对输入的数据层次聚类"
   ],
   "metadata": {
    "collapsed": false
   },
   "id": "cb43ca29e04c839a"
  },
  {
   "cell_type": "code",
   "outputs": [],
   "source": [
    "#数据\n",
    "X = [[1,2],[3,2],[4,4],[1,2],[1,3]]\n",
    "#层次聚类\n",
    "Z = linkage(X, 'ward')\n",
    "f = fcluster(Z,4,'distance')"
   ],
   "metadata": {
    "collapsed": false,
    "ExecuteTime": {
     "end_time": "2024-05-24T09:59:28.246517Z",
     "start_time": "2024-05-24T09:59:28.232999Z"
    }
   },
   "id": "89e0080808f0b4c2",
   "execution_count": 2
  },
  {
   "cell_type": "markdown",
   "source": [
    "3. 画出聚类结果"
   ],
   "metadata": {
    "collapsed": false
   },
   "id": "61bd57842a46d3e3"
  },
  {
   "cell_type": "code",
   "outputs": [
    {
     "name": "stdout",
     "output_type": "stream",
     "text": [
      "[[0.         3.         0.         2.        ]\n",
      " [4.         5.         1.15470054 3.        ]\n",
      " [1.         2.         2.23606798 2.        ]\n",
      " [6.         7.         4.00832467 5.        ]]\n"
     ]
    },
    {
     "data": {
      "text/plain": "<Figure size 500x300 with 1 Axes>",
      "image/png": "[encoded data removed]"
     },
     "metadata": {},
     "output_type": "display_data"
    }
   ],
   "source": [
    "fig = plt.figure(figsize=(5, 3))\n",
    "dn = dendrogram(Z)\n",
    "print(Z)\n",
    "plt.show()"
   ],
   "metadata": {
    "collapsed": false,
    "ExecuteTime": {
     "end_time": "2024-05-24T09:59:28.419559Z",
     "start_time": "2024-05-24T09:59:28.248021Z"
    }
   },
   "id": "d9d0128d4e93fc60",
   "execution_count": 3
  }
 ],
 "metadata": {
  "kernelspec": {
   "display_name": "Python 3",
   "language": "python",
   "name": "python3"
  },
  "language_info": {
   "codemirror_mode": {
    "name": "ipython",
    "version": 2
   },
   "file_extension": ".py",
   "mimetype": "text/x-python",
   "name": "python",
   "nbconvert_exporter": "python",
   "pygments_lexer": "ipython2",
   "version": "2.7.6"
  }
 },
 "nbformat": 4,
 "nbformat_minor": 5
}
