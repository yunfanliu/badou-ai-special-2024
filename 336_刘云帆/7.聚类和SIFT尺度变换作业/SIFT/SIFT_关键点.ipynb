{
 "cells": [
  {
   "cell_type": "markdown",
   "source": [
    "目的：**SIFT特征提取和匹配具体步骤**\n",
    "\n",
    "1.  生成高斯差分金字塔（DOG金字塔），尺度空间构建\n",
    "2.  空间极值点检测（关键点的初步查探）\n",
    "3.  稳定关键点的精确定位\n",
    "4.  稳定关键点方向信息分配\n",
    "5.  关键点描述"
   ],
   "metadata": {
    "collapsed": false
   },
   "id": "c1083f75e6c3e2e5"
  },
  {
   "cell_type": "code",
   "execution_count": 16,
   "id": "initial_id",
   "metadata": {
    "collapsed": true,
    "ExecuteTime": {
     "end_time": "2024-05-24T10:20:44.213646Z",
     "start_time": "2024-05-24T10:20:44.204387Z"
    }
   },
   "outputs": [],
   "source": [
    "import cv2\n",
    "import numpy as np"
   ]
  },
  {
   "cell_type": "markdown",
   "source": [
    "2. 处理数据"
   ],
   "metadata": {
    "collapsed": false
   },
   "id": "930d52b9b1e53142"
  },
  {
   "cell_type": "code",
   "outputs": [],
   "source": [
    "# 导入图片，并进行灰度化\n",
    "img = cv2.imread(\"lenna.png\")\n",
    "gray = cv2.cvtColor(img, cv2.COLOR_BGR2GRAY)"
   ],
   "metadata": {
    "collapsed": false,
    "ExecuteTime": {
     "end_time": "2024-05-24T10:20:44.228977Z",
     "start_time": "2024-05-24T10:20:44.216750Z"
    }
   },
   "id": "6863e2cd8b0c7cb",
   "execution_count": 17
  },
  {
   "cell_type": "markdown",
   "source": [
    "3. 调用sift函数进行特征提取"
   ],
   "metadata": {
    "collapsed": false
   },
   "id": "10d5e685ed8e3898"
  },
  {
   "cell_type": "code",
   "outputs": [],
   "source": [
    "# sift = cv2.xfeatures2d.SIFT_create()  使用的sift版本较高，使用新的调换方式\n",
    "sift =cv2.SIFT_create()  #新的调换方式\n",
    "keypoints, descriptor = sift.detectAndCompute(gray, None)"
   ],
   "metadata": {
    "collapsed": false,
    "ExecuteTime": {
     "end_time": "2024-05-24T10:20:44.276606Z",
     "start_time": "2024-05-24T10:20:44.229971Z"
    }
   },
   "id": "ecdd5d07fc6354cc",
   "execution_count": 18
  },
  {
   "cell_type": "markdown",
   "source": [
    "4. 绘制关键点"
   ],
   "metadata": {
    "collapsed": false
   },
   "id": "af68117b86302c16"
  },
  {
   "cell_type": "code",
   "outputs": [],
   "source": [
    "# cv2.DRAW_MATCHES_FLAGS_DRAW_RICH_KEYPOINTS对图像的每个关键点都绘制了圆圈和方向。\n",
    "img = cv2.drawKeypoints(image=img, outImage=img, keypoints=keypoints,\n",
    "                        flags=cv2.DRAW_MATCHES_FLAGS_DRAW_RICH_KEYPOINTS,\n",
    "                        color=(51, 163, 236))\n",
    "                        \n",
    "#img=cv2.drawKeypoints(gray,keypoints,img)\n",
    "\n",
    "cv2.imshow('sift_keypoints', img)\n",
    "cv2.waitKey(0)\n",
    "cv2.destroyAllWindows()"
   ],
   "metadata": {
    "collapsed": false,
    "ExecuteTime": {
     "end_time": "2024-05-24T10:20:46.775680Z",
     "start_time": "2024-05-24T10:20:44.278619Z"
    }
   },
   "id": "54b60d80fb5b3516",
   "execution_count": 19
  }
 ],
 "metadata": {
  "kernelspec": {
   "display_name": "Python 3",
   "language": "python",
   "name": "python3"
  },
  "language_info": {
   "codemirror_mode": {
    "name": "ipython",
    "version": 2
   },
   "file_extension": ".py",
   "mimetype": "text/x-python",
   "name": "python",
   "nbconvert_exporter": "python",
   "pygments_lexer": "ipython2",
   "version": "2.7.6"
  }
 },
 "nbformat": 4,
 "nbformat_minor": 5
}
