{
 "cells": [
  {
   "cell_type": "markdown",
   "source": [
    "目的：**SIFT特征提取和匹配具体步骤**\n",
    "\n",
    "1.  生成高斯差分金字塔（DOG金字塔），尺度空间构建\n",
    "2.  空间极值点检测（关键点的初步查探）\n",
    "3.  稳定关键点的精确定位\n",
    "4.  稳定关键点方向信息分配\n",
    "5.  关键点描述\n",
    "6.  特征点匹配\n"
   ],
   "metadata": {
    "collapsed": false
   },
   "id": "626857883e6d9332"
  },
  {
   "cell_type": "markdown",
   "source": [
    "1. 导入常用库"
   ],
   "metadata": {
    "collapsed": false
   },
   "id": "5a4c4f9648b3bf86"
  },
  {
   "cell_type": "code",
   "execution_count": 4,
   "id": "initial_id",
   "metadata": {
    "collapsed": true,
    "ExecuteTime": {
     "end_time": "2024-05-24T10:52:47.235448Z",
     "start_time": "2024-05-24T10:52:47.223943Z"
    }
   },
   "outputs": [],
   "source": [
    "import cv2\n",
    "import numpy as np"
   ]
  },
  {
   "cell_type": "markdown",
   "source": [
    "2. drawMatchesKnn_cv2 作用：绘制关键点的匹配结果"
   ],
   "metadata": {
    "collapsed": false
   },
   "id": "dbe5f98a1e04a33d"
  },
  {
   "cell_type": "code",
   "outputs": [],
   "source": [
    "def drawMatchesKnn_cv2(img1_gray,kp1,img2_gray,kp2,goodMatch):\n",
    "    h1, w1 = img1_gray.shape[:2]\n",
    "    h2, w2 = img2_gray.shape[:2]\n",
    " \n",
    "    vis = np.zeros((max(h1, h2), w1 + w2, 3), np.uint8)\n",
    "    vis[:h1, :w1] = img1_gray\n",
    "    vis[:h2, w1:w1 + w2] = img2_gray\n",
    " \n",
    "    p1 = [kpp.queryIdx for kpp in goodMatch]\n",
    "    p2 = [kpp.trainIdx for kpp in goodMatch]\n",
    " \n",
    "    post1 = np.int32([kp1[pp].pt for pp in p1])\n",
    "    post2 = np.int32([kp2[pp].pt for pp in p2]) + (w1, 0)\n",
    " \n",
    "    for (x1, y1), (x2, y2) in zip(post1, post2):\n",
    "        cv2.line(vis, (x1, y1), (x2, y2), (0,0,255))\n",
    " \n",
    "    cv2.namedWindow(\"match\",cv2.WINDOW_NORMAL)\n",
    "    cv2.imshow(\"match\", vis)\n",
    "    \n"
   ],
   "metadata": {
    "collapsed": false,
    "ExecuteTime": {
     "end_time": "2024-05-24T10:52:47.250889Z",
     "start_time": "2024-05-24T10:52:47.237014Z"
    }
   },
   "id": "38238892274b081f",
   "execution_count": 5
  },
  {
   "cell_type": "markdown",
   "source": [
    "3. 找出相似度最高的前k个，在原图和对比图上绘制出来"
   ],
   "metadata": {
    "collapsed": false
   },
   "id": "6aa81ee0ff83d8c4"
  },
  {
   "cell_type": "code",
   "outputs": [],
   "source": [
    "img1_gray = cv2.imread(\"iphone1.png\")\n",
    "img2_gray = cv2.imread(\"iphone2.png\")\n",
    " \n",
    "#sift = cv2.SIFT()\n",
    "sift =cv2.SIFT_create()  #新的调换方式  SIFT具体步骤1-4\n",
    "# sift = cv2.xfeatures2d.SIFT_create() #旧的调换方式\n",
    "#sift = cv2.SURF()\n",
    "# 找出关键点并计算描述符\n",
    "kp1, des1 = sift.detectAndCompute(img1_gray, None)\n",
    "kp2, des2 = sift.detectAndCompute(img2_gray, None)\n",
    " \n",
    "# BFmatcher with default parms\n",
    "bf = cv2.BFMatcher(cv2.NORM_L2)\n",
    "#opencv中knnMatch是一种蛮力匹配\n",
    "#将待匹配图片的特征与目标图片中的全部特征全量遍历，找出相似度最高的前k个。\n",
    "matches = bf.knnMatch(des1, des2, k = 2)\n",
    "\n",
    "goodMatch = []\n",
    "for m,n in matches:\n",
    "    #两图的描述符之间的距离越小，说明两图越相似\n",
    "    if m.distance < 0.50*n.distance:\n",
    "        goodMatch.append(m)\n",
    " \n",
    "drawMatchesKnn_cv2(img1_gray,kp1,img2_gray,kp2,goodMatch[:20])\n",
    " \n",
    "cv2.waitKey(0)\n",
    "cv2.destroyAllWindows()"
   ],
   "metadata": {
    "collapsed": false,
    "ExecuteTime": {
     "end_time": "2024-05-24T10:52:48.682806Z",
     "start_time": "2024-05-24T10:52:47.253305Z"
    }
   },
   "id": "d25f7d31a511a14f",
   "execution_count": 6
  }
 ],
 "metadata": {
  "kernelspec": {
   "display_name": "Python 3",
   "language": "python",
   "name": "python3"
  },
  "language_info": {
   "codemirror_mode": {
    "name": "ipython",
    "version": 2
   },
   "file_extension": ".py",
   "mimetype": "text/x-python",
   "name": "python",
   "nbconvert_exporter": "python",
   "pygments_lexer": "ipython2",
   "version": "2.7.6"
  }
 },
 "nbformat": 4,
 "nbformat_minor": 5
}
