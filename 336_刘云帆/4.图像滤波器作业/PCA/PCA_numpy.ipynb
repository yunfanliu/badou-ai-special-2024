{
 "cells": [
  {
   "cell_type": "markdown",
   "source": [
    "# 1、导入模块"
   ],
   "metadata": {
    "collapsed": false
   },
   "id": "527dbd5cc68960ca"
  },
  {
   "cell_type": "code",
   "execution_count": 19,
   "id": "initial_id",
   "metadata": {
    "collapsed": true,
    "ExecuteTime": {
     "end_time": "2024-04-23T03:24:34.710599Z",
     "start_time": "2024-04-23T03:24:34.696509Z"
    }
   },
   "outputs": [],
   "source": [
    "import numpy as np"
   ]
  },
  {
   "cell_type": "markdown",
   "source": [
    "# 2、构造函数"
   ],
   "metadata": {
    "collapsed": false
   },
   "id": "c9c7d3c7c0eaaf7a"
  },
  {
   "cell_type": "code",
   "outputs": [],
   "source": [
    "class PCA():\n",
    "    \n",
    "    def __init__(self,weidu):\n",
    "        self.weidu = weidu\n",
    "        \n",
    "    \n",
    "    def fit_transform(self,X):\n",
    "        print('原始的数组X：\\n',X)\n",
    "        self.n_features_ = X.shape[1]\n",
    "        print('X.mean是数组X每一列的均值\\n',X.mean(axis=0))\n",
    "        #中心化\n",
    "        X = X - X.mean(axis=0)\n",
    "        print('现在的X是中心化之后的数组\\n',X)\n",
    "        #计算协方差矩阵\n",
    "        self.covariance = (np.dot(X.T,X))/X.shape[0]\n",
    "        print('协方差矩阵：\\n',self.covariance)\n",
    "        # 求协方差矩阵的特征值和特征向量\n",
    "        eig_vals,eig_vectors = np.linalg.eig(self.covariance)\n",
    "        # 获得降序排列特征值的序号\n",
    "        idx = np.argsort(-eig_vals)\n",
    "        # 降维矩阵\n",
    "        self.components_ = eig_vectors[:,idx[:self.weidu]]\n",
    "        # 对X进行降维\n",
    "        return np.dot(X,self.components_)\n",
    "        "
   ],
   "metadata": {
    "collapsed": false,
    "ExecuteTime": {
     "end_time": "2024-04-23T03:24:34.726131Z",
     "start_time": "2024-04-23T03:24:34.712602Z"
    }
   },
   "id": "b306845121d04eb7",
   "execution_count": 20
  },
  {
   "cell_type": "markdown",
   "source": [
    "# 3、调用函数，处理数据集"
   ],
   "metadata": {
    "collapsed": false
   },
   "id": "460813bbbb9e6ef3"
  },
  {
   "cell_type": "code",
   "outputs": [
    {
     "name": "stdout",
     "output_type": "stream",
     "text": [
      "原始的数组X：\n",
      " [[-1  2 66 -1]\n",
      " [-2  6 58 -1]\n",
      " [-3  8 45 -2]\n",
      " [ 1  9 36  1]\n",
      " [ 2 10 62  1]\n",
      " [ 3  5 83  2]]\n",
      "X.mean是数组X每一列的均值\n",
      " [ 0.          6.66666667 58.33333333  0.        ]\n",
      "现在的X是中心化之后的数组\n",
      " [[ -1.          -4.66666667   7.66666667  -1.        ]\n",
      " [ -2.          -0.66666667  -0.33333333  -1.        ]\n",
      " [ -3.           1.33333333 -13.33333333  -2.        ]\n",
      " [  1.           2.33333333 -22.33333333   1.        ]\n",
      " [  2.           3.33333333   3.66666667   1.        ]\n",
      " [  3.          -1.66666667  24.66666667   2.        ]]\n",
      "协方差矩阵：\n",
      " [[ 1.75        0.375       5.75        1.125     ]\n",
      " [ 0.375       2.70833333 -8.39583333  0.3125    ]\n",
      " [ 5.75       -8.39583333 84.83333333  3.125     ]\n",
      " [ 1.125       0.3125      3.125       0.75      ]]\n",
      "0\n"
     ]
    }
   ],
   "source": [
    "pca = PCA(weidu=2)\n",
    "X = np.array([[-1,2,66,-1], [-2,6,58,-1], [-3,8,45,-2], [1,9,36,1], [2,10,62,1], [3,5,83,2]])  #导入数据，维度为4\n",
    "newX=pca.fit_transform(X)\n",
    "print(newX)  "
   ],
   "metadata": {
    "collapsed": false,
    "ExecuteTime": {
     "end_time": "2024-04-23T03:24:34.742202Z",
     "start_time": "2024-04-23T03:24:34.728221Z"
    }
   },
   "id": "54d0857f1bb2a640",
   "execution_count": 21
  }
 ],
 "metadata": {
  "kernelspec": {
   "display_name": "Python 3",
   "language": "python",
   "name": "python3"
  },
  "language_info": {
   "codemirror_mode": {
    "name": "ipython",
    "version": 2
   },
   "file_extension": ".py",
   "mimetype": "text/x-python",
   "name": "python",
   "nbconvert_exporter": "python",
   "pygments_lexer": "ipython2",
   "version": "2.7.6"
  }
 },
 "nbformat": 4,
 "nbformat_minor": 5
}
