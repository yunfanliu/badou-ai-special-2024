{
 "cells": [
  {
   "cell_type": "markdown",
   "source": [
    "# 1、调用使用的模块"
   ],
   "metadata": {
    "collapsed": false
   },
   "id": "1cf2b72d370b4088"
  },
  {
   "cell_type": "code",
   "outputs": [],
   "source": [
    "import numpy as np\n",
    "import sklearn.decomposition as PCA"
   ],
   "metadata": {
    "collapsed": false
   },
   "id": "fd2aef89fb78d4ea"
  },
  {
   "cell_type": "code",
   "outputs": [],
   "source": [
    "X = np.array([[-1,2,66,-1], [-2,6,58,-1], [-3,8,45,-2], [1,9,36,1], [2,10,62,1], [3,5,83,2]])  #导入数据，维度为4\n",
    "pca = PCA(n_components=2)   #降到2维\n",
    "pca.fit(X)                  #执行\n",
    "newX=pca.fit_transform(X)   #降维后的数据\n",
    "print(newX)                  #输出降维后的数据"
   ],
   "metadata": {
    "collapsed": false
   },
   "id": "7c3aaaae0c3cddfd"
  },
  {
   "cell_type": "markdown",
   "source": [],
   "metadata": {
    "collapsed": false
   },
   "id": "2b7aa43209996919"
  }
 ],
 "metadata": {
  "kernelspec": {
   "display_name": "Python 3",
   "language": "python",
   "name": "python3"
  },
  "language_info": {
   "codemirror_mode": {
    "name": "ipython",
    "version": 2
   },
   "file_extension": ".py",
   "mimetype": "text/x-python",
   "name": "python",
   "nbconvert_exporter": "python",
   "pygments_lexer": "ipython2",
   "version": "2.7.6"
  }
 },
 "nbformat": 4,
 "nbformat_minor": 5
}
