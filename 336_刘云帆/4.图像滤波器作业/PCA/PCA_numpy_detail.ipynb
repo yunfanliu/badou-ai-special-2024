{
 "cells": [
  {
   "cell_type": "markdown",
   "source": [
    "# 1、导入要使用的模块"
   ],
   "metadata": {
    "collapsed": false
   },
   "id": "99d720c70e536780"
  },
  {
   "cell_type": "code",
   "execution_count": 19,
   "id": "initial_id",
   "metadata": {
    "collapsed": true,
    "ExecuteTime": {
     "end_time": "2024-04-23T02:40:11.689506Z",
     "start_time": "2024-04-23T02:40:11.671730Z"
    }
   },
   "outputs": [],
   "source": [
    "import numpy as np\n",
    "from sklearn.decomposition import PCA"
   ]
  },
  {
   "cell_type": "markdown",
   "source": [
    "# 2、构造PCA函数\n",
    "实现主要功能：\n",
    "1、将数据集转化为矩阵\n",
    "2、将数据零均值化，计算协方差矩阵\n",
    "3、计算特征值和特征向量\n",
    "4、返回特征值和特征向量"
   ],
   "metadata": {
    "collapsed": false
   },
   "id": "a24585ce4160ca14"
  },
  {
   "cell_type": "code",
   "outputs": [],
   "source": [
    "class CPCA_numpy_detail(object):\n",
    "    \n",
    "    def __init__(self,X,K):\n",
    "            \n",
    "        self.X = X  #X：数据集\n",
    "        self.K = K  #k：降维后的维度\n",
    "        self.centerX = []   #centerX：中心化后的数据集\n",
    "        self.Covar = [] #协方差矩阵       \n",
    "        self.U = []  # 样本X的降维转换矩阵\n",
    "        self.Z = []  # 样本X的降维矩阵\n",
    "        \n",
    "        self.centerX = self._centeralizad()\n",
    "        self.Covar = self._cover()\n",
    "        self.U = self._U()\n",
    "        self.Z = self._Z()\n",
    "        \n",
    "    def _centeralizad(self):  #中心化函数\n",
    "        #矩阵X的中心化\n",
    "        print('样本矩阵X:\\n:',self.X)\n",
    "        centerX = []\n",
    "        mean = np.array([np.mean(attr) for attr in self.X.T])#attr是矩阵转置的一行 [10 15 23 11 42  9 11  8 11 21]#np.mean求这一行的均值\n",
    "        print('样本X每一列的均值:\\n',mean)  #样本X每一列的均值  [16.1 24.2 19.8]\n",
    "        centerX = self.X - mean         #样本X每一列的数值减去每一列的均值\n",
    "        print('样本矩阵X的中心化centrX:\\n', centerX)\n",
    "        return centerX\n",
    "    \n",
    "    def _cover(self):           #协方差函数\n",
    "        #求样本矩阵X的协方差矩阵C\n",
    "        C = np.dot(self.centerX.T, self.centerX)\n",
    "        C = C/(np.shape(C)[0]*np.shape(C)[1])\n",
    "        print('样本矩阵X的协方差矩阵C:\\n', C)\n",
    "        return C\n",
    "    \n",
    "    def _U(self):             #\n",
    "        a,b = np.linalg.eig(self.Covar) #特征值赋值给a，对应特征向量赋值给b。函数doc：https://docs.scipy.org/doc/numpy-1.10.0/reference/generated/numpy.linalg.eig.html \n",
    "        print('样本集的协方差矩阵C的特征值:\\n', a)\n",
    "        print('样本集的协方差矩阵C的特征向量:\\n', b)\n",
    "        #给出特征值降序的topK的索引序列\n",
    "        ind = np.argsort(-a)  #样本集的协方差矩阵C的特征值降维到K维度的索引序列:  pr-[0 1 2]\n",
    "        print('样本集的协方差矩阵C的特征值降维到K维度的索引序列:\\n', ind)\n",
    "        #UT= [[0],[1],...[K]] UT中是X数据集 降维到0维度。。。K维度的集合\n",
    "        UT =[ b[:,ind[i] ]for i in range (self.K)]  #K = 2  i = 0,1   ind[i] = 0,1  b[:,ind[i]= 取数组b的1，2列\n",
    "        print('样本集的协方差矩阵C的特征向量降维到K维度:\\n', UT)\n",
    "        U = np.transpose(UT)\n",
    "        print('%d阶降维转换矩阵U:\\n'%self.K, U)\n",
    "        return U\n",
    "    \n",
    "    def _Z(self):\n",
    "        #按照Z=XU求降维矩阵Z, shape=(m,k), n是样本总数，k是降维矩阵中特征维度总数\n",
    "        Z = np.dot(self.X, self.U)\n",
    "        print('X shape:', np.shape(self.X))\n",
    "        print('U shape:', np.shape(self.U))\n",
    "        print('Z shape:', np.shape(Z))\n",
    "        print('样本矩阵X的降维矩阵Z:\\n', Z)\n",
    "        return Z"
   ],
   "metadata": {
    "collapsed": false,
    "ExecuteTime": {
     "end_time": "2024-04-23T02:40:11.704824Z",
     "start_time": "2024-04-23T02:40:11.690920Z"
    }
   },
   "id": "2f9067cfccb6b3bc",
   "execution_count": 20
  },
  {
   "cell_type": "markdown",
   "source": [
    "# 3、调用CPCA函数，对X降维"
   ],
   "metadata": {
    "collapsed": false
   },
   "id": "d72b3d0d385deeac"
  },
  {
   "cell_type": "code",
   "outputs": [
    {
     "name": "stdout",
     "output_type": "stream",
     "text": [
      "K样本集的维度:\n",
      " 2\n",
      "样本集(10行3列，10个样例，每个样例3个特征):\n",
      " [[10 15 29]\n",
      " [15 46 13]\n",
      " [23 21 30]\n",
      " [11  9 35]\n",
      " [42 45 11]\n",
      " [ 9 48  5]\n",
      " [11 21 14]\n",
      " [ 8  5 15]\n",
      " [11 12 21]\n",
      " [21 20 25]]\n",
      "样本矩阵X:\n",
      ": [[10 15 29]\n",
      " [15 46 13]\n",
      " [23 21 30]\n",
      " [11  9 35]\n",
      " [42 45 11]\n",
      " [ 9 48  5]\n",
      " [11 21 14]\n",
      " [ 8  5 15]\n",
      " [11 12 21]\n",
      " [21 20 25]]\n",
      "样本X每一列的均值:\n",
      " [16.1 24.2 19.8]\n",
      "样本矩阵X的中心化centrX:\n",
      " [[ -6.1  -9.2   9.2]\n",
      " [ -1.1  21.8  -6.8]\n",
      " [  6.9  -3.2  10.2]\n",
      " [ -5.1 -15.2  15.2]\n",
      " [ 25.9  20.8  -8.8]\n",
      " [ -7.1  23.8 -14.8]\n",
      " [ -5.1  -3.2  -5.8]\n",
      " [ -8.1 -19.2  -4.8]\n",
      " [ -5.1 -12.2   1.2]\n",
      " [  4.9  -4.2   5.2]]\n",
      "样本矩阵X的协方差矩阵C:\n",
      " [[ 108.32222222   74.53333333  -10.08888889]\n",
      " [  74.53333333  260.62222222 -106.4       ]\n",
      " [ -10.08888889 -106.4          94.17777778]]\n",
      "样本集的协方差矩阵C的特征值:\n",
      " [335.15738485  95.32771231  32.63712506]\n",
      "样本集的协方差矩阵C的特征向量:\n",
      " [[-0.30253213 -0.87499307 -0.37797014]\n",
      " [-0.86718533  0.08811216  0.49012839]\n",
      " [ 0.39555518 -0.47604975  0.78543792]]\n",
      "样本集的协方差矩阵C的特征值降维到K维度的索引序列:\n",
      " [0 1 2]\n",
      "样本集的协方差矩阵C的特征向量降维到K维度:\n",
      " [array([-0.30253213, -0.86718533,  0.39555518]), array([-0.87499307,  0.08811216, -0.47604975])]\n",
      "2阶降维转换矩阵U:\n",
      " [[-0.30253213 -0.87499307]\n",
      " [-0.86718533  0.08811216]\n",
      " [ 0.39555518 -0.47604975]]\n"
     ]
    }
   ],
   "source": [
    "if __name__ == '__main__':\n",
    "    \n",
    "    X = np.array([[10, 15, 29],\n",
    "                  [15, 46, 13],\n",
    "                  [23, 21, 30],\n",
    "                  [11, 9,  35],\n",
    "                  [42, 45, 11],\n",
    "                  [9,  48, 5],\n",
    "                  [11, 21, 14],\n",
    "                  [8,  5,  15],\n",
    "                  [11, 12, 21],\n",
    "                  [21, 20, 25]])\n",
    "    K = np.shape(X)[1] - 1\n",
    "    print('K样本集的维度:\\n', K)\n",
    "    print('样本集(10行3列，10个样例，每个样例3个特征):\\n', X)\n",
    "    pca = CPCA_numpy_detail(X,K)"
   ],
   "metadata": {
    "collapsed": false,
    "ExecuteTime": {
     "end_time": "2024-04-23T02:40:11.720264Z",
     "start_time": "2024-04-23T02:40:11.705852Z"
    }
   },
   "id": "41613187b20b341a",
   "execution_count": 21
  }
 ],
 "metadata": {
  "kernelspec": {
   "display_name": "Python 3",
   "language": "python",
   "name": "python3"
  },
  "language_info": {
   "codemirror_mode": {
    "name": "ipython",
    "version": 2
   },
   "file_extension": ".py",
   "mimetype": "text/x-python",
   "name": "python",
   "nbconvert_exporter": "python",
   "pygments_lexer": "ipython2",
   "version": "2.7.6"
  }
 },
 "nbformat": 4,
 "nbformat_minor": 5
}
