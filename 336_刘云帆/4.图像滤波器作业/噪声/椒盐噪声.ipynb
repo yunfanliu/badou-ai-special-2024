{
 "cells": [
  {
   "cell_type": "markdown",
   "source": [
    "1、调用函数"
   ],
   "metadata": {
    "collapsed": false
   },
   "id": "65291ee9abf71dc1"
  },
  {
   "cell_type": "code",
   "execution_count": 1,
   "id": "initial_id",
   "metadata": {
    "collapsed": true,
    "ExecuteTime": {
     "end_time": "2024-04-19T02:44:22.462914Z",
     "start_time": "2024-04-19T02:44:22.209932Z"
    }
   },
   "outputs": [],
   "source": [
    "import cv2\n",
    "import random"
   ]
  },
  {
   "cell_type": "markdown",
   "source": [
    "2、构造图片椒盐噪声函数"
   ],
   "metadata": {
    "collapsed": false
   },
   "id": "e14f05c0da8daf11"
  },
  {
   "cell_type": "code",
   "outputs": [],
   "source": [
    "def PepperNoise(src,percentage):\n",
    "    NoiseImg = src\n",
    "    NoiseNum = int(percentage * src.shape[0] * src.shape[1])\n",
    "    for i in range(NoiseNum):\n",
    "        randX = random.randint(0,src.shape[0]-1)\n",
    "        randY = random.randint(0,src.shape[1]-1)\n",
    "        if random.random() <= 0.5:\n",
    "            NoiseImg[randX,randY] = 0\n",
    "        elif random.random() > 0.5:\n",
    "            NoiseImg[randX,randY] = 255\n",
    "    return NoiseImg"
   ],
   "metadata": {
    "collapsed": false,
    "ExecuteTime": {
     "end_time": "2024-04-19T02:44:22.478766Z",
     "start_time": "2024-04-19T02:44:22.463924Z"
    }
   },
   "id": "8c167bf6df4c776",
   "execution_count": 2
  },
  {
   "cell_type": "markdown",
   "source": [
    "3、调用【椒盐噪声】函数，处理图片"
   ],
   "metadata": {
    "collapsed": false
   },
   "id": "ca78c616c2b7e335"
  },
  {
   "cell_type": "code",
   "outputs": [
    {
     "data": {
      "text/plain": "-1"
     },
     "execution_count": 3,
     "metadata": {},
     "output_type": "execute_result"
    }
   ],
   "source": [
    "img=cv2.imread('lenna.png',0)\n",
    "img1=PepperNoise(img,0.8)\n",
    "#在文件夹中写入命名为lenna_PepperandSalt.png的加噪后的图片\n",
    "#cv2.imwrite('lenna_PepperandSalt.png',img1)\n",
    "\n",
    "img = cv2.imread('lenna.png')\n",
    "img2 = cv2.cvtColor(img, cv2.COLOR_BGR2GRAY)\n",
    "cv2.imshow('source',img2)\n",
    "cv2.imshow('lenna_PepperandSalt',img1)\n",
    "cv2.waitKey(0)"
   ],
   "metadata": {
    "collapsed": false,
    "ExecuteTime": {
     "end_time": "2024-04-19T02:44:36.519526Z",
     "start_time": "2024-04-19T02:44:22.479859Z"
    }
   },
   "id": "5ca8ba476cd1090b",
   "execution_count": 3
  }
 ],
 "metadata": {
  "kernelspec": {
   "display_name": "Python 3",
   "language": "python",
   "name": "python3"
  },
  "language_info": {
   "codemirror_mode": {
    "name": "ipython",
    "version": 2
   },
   "file_extension": ".py",
   "mimetype": "text/x-python",
   "name": "python",
   "nbconvert_exporter": "python",
   "pygments_lexer": "ipython2",
   "version": "2.7.6"
  }
 },
 "nbformat": 4,
 "nbformat_minor": 5
}
