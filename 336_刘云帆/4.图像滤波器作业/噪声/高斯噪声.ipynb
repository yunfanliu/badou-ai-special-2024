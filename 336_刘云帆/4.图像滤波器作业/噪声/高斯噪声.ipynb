{
 "cells": [
  {
   "cell_type": "markdown",
   "source": [
    "1、调用函数"
   ],
   "metadata": {
    "collapsed": false
   },
   "id": "d331a9cc28ee12f9"
  },
  {
   "cell_type": "code",
   "execution_count": 4,
   "id": "initial_id",
   "metadata": {
    "collapsed": true,
    "ExecuteTime": {
     "end_time": "2024-04-18T09:55:21.733522Z",
     "start_time": "2024-04-18T09:55:21.719321Z"
    }
   },
   "outputs": [],
   "source": [
    "import cv2\n",
    "import random"
   ]
  },
  {
   "cell_type": "markdown",
   "source": [
    "2、构造图片高斯噪声函数\n",
    "\n",
    "src==输入的图片, mean==高斯函数参数, sigma==高斯函数参数,percentage==百分之多少的点的高斯噪声"
   ],
   "metadata": {
    "collapsed": false
   },
   "id": "742af841b0619946"
  },
  {
   "cell_type": "code",
   "outputs": [],
   "source": [
    "def GaussiNoise(src, mean, sigma,percentage):\n",
    "    NoiseImg = src\n",
    "    NoiseNum = int(percentage * src.shape[0] * src.shape[1])\n",
    "\n",
    "    for i in range(NoiseNum):\n",
    "        randX = random.randint(0,src.shape[0]-1)\n",
    "        randY = random.randint(0,src.shape[1]-1)\n",
    "        NoiseImg[randX,randY] = NoiseImg[randX,randY] + random.gauss(mean,sigma)\n",
    "        if NoiseImg[randX,randY] < 0:\n",
    "            NoiseImg[randX,randY] = 0\n",
    "        elif NoiseImg[randX,randY] > 255: \n",
    "            NoiseImg[randX,randY] = 255   \n",
    "            \n",
    "    return NoiseImg\n",
    "\n",
    "\n"
   ],
   "metadata": {
    "collapsed": false,
    "ExecuteTime": {
     "end_time": "2024-04-18T09:55:21.749161Z",
     "start_time": "2024-04-18T09:55:21.735781Z"
    }
   },
   "id": "b57701a5767742a7",
   "execution_count": 5
  },
  {
   "cell_type": "markdown",
   "source": [
    "3、调用【高斯噪声】函数，处理图片"
   ],
   "metadata": {
    "collapsed": false
   },
   "id": "a61dd40604d8bf8a"
  },
  {
   "cell_type": "code",
   "outputs": [
    {
     "data": {
      "text/plain": "-1"
     },
     "execution_count": 6,
     "metadata": {},
     "output_type": "execute_result"
    }
   ],
   "source": [
    "img = cv2.imread('lenna.png',0)\n",
    "imgGuess = GaussiNoise(img,2,4,0.9)\n",
    "img = cv2.imread('lenna.png')\n",
    "imgGray = cv2.cvtColor(img,cv2.COLOR_BGR2GRAY)\n",
    "\n",
    "cv2.imshow('source',imgGray)\n",
    "cv2.imshow('GUEssNOISE',imgGuess)\n",
    "\n",
    "cv2.waitKey(0)"
   ],
   "metadata": {
    "collapsed": false,
    "ExecuteTime": {
     "end_time": "2024-04-18T09:55:42.016118Z",
     "start_time": "2024-04-18T09:55:21.751178Z"
    }
   },
   "id": "3e33d482fd767b3f",
   "execution_count": 6
  }
 ],
 "metadata": {
  "kernelspec": {
   "display_name": "Python 3",
   "language": "python",
   "name": "python3"
  },
  "language_info": {
   "codemirror_mode": {
    "name": "ipython",
    "version": 2
   },
   "file_extension": ".py",
   "mimetype": "text/x-python",
   "name": "python",
   "nbconvert_exporter": "python",
   "pygments_lexer": "ipython2",
   "version": "2.7.6"
  }
 },
 "nbformat": 4,
 "nbformat_minor": 5
}
