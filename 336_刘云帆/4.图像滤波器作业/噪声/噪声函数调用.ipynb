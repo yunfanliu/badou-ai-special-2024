{
 "cells": [
  {
   "cell_type": "markdown",
   "source": [
    "  # 1、导入模块"
   ],
   "metadata": {
    "collapsed": false
   },
   "id": "9222ea64b1b0f997"
  },
  {
   "cell_type": "code",
   "execution_count": 9,
   "id": "initial_id",
   "metadata": {
    "collapsed": true,
    "ExecuteTime": {
     "end_time": "2024-04-19T02:57:29.611683Z",
     "start_time": "2024-04-19T02:57:29.605561Z"
    }
   },
   "outputs": [],
   "source": [
    "import cv2 as cv\n",
    "import numpy as np\n",
    "from PIL import Image\n",
    "from skimage import util"
   ]
  },
  {
   "cell_type": "markdown",
   "source": [
    "# 2、调用函数，处理图片并打印\n",
    "\n",
    "- def random_noise(image, mode='gaussian', seed=None, clip=True, **kwargs):\n",
    "- 功能：为浮点型图片添加各种随机噪声\n",
    "- 参数：\n",
    "- image：输入图片（将会被转换成浮点型），ndarray型\n",
    "- 可选择，str型，表示要添加的噪声类型\n",
    "-\tgaussian：高斯噪声\n",
    "-\tlocalvar：高斯分布的加性噪声，在“图像”的每个点处具有指定的局部方差。\n",
    "-\tpoisson：泊松噪声\n",
    "-\tsalt：盐噪声，随机将像素值变成1\n",
    "-\tpepper：椒噪声，随机将像素值变成0或-1，取决于矩阵的值是否带符号\n",
    "-\ts&p：椒盐噪声\n",
    "-\tspeckle：均匀噪声（均值mean方差variance），out=image+n*image\n",
    "- seed： 可选的，int型，如果选择的话，在生成噪声前会先设置随机种子以避免伪随机\n",
    "- clip： 可选的，bool型，如果是True，在添加均值，泊松以及高斯噪声后，会将图片的数据裁剪到合适范围内。如果是False，则输出矩阵的值可能会超出[-1,1]\n",
    "- mean： 可选的，float型，高斯噪声和均值噪声中的mean参数，默认值=0\n",
    "- var：  可选的，float型，高斯噪声和均值噪声中的方差，默认值=0.01（注：不是标准差）\n",
    "- local_vars：可选的，ndarry型，用于定义每个像素点的局部方差，在localvar中使用\n",
    "- amount： 可选的，float型，是椒盐噪声所占比例，默认值=0.05\n",
    "- salt_vs_pepper：可选的，float型，椒盐噪声中椒盐比例，值越大表示盐噪声越多，默认值=0.5，即椒盐等量\n",
    "\n",
    "- 返回值：ndarry型，且值在[0,1]或者[-1,1]之间，取决于是否是有符号数"
   ],
   "metadata": {
    "collapsed": false
   },
   "id": "19da90fcf52d8b93"
  },
  {
   "cell_type": "code",
   "outputs": [],
   "source": [
    "img = cv.imread('lenna.png')\n",
    "noise_img = util.random_noise(img, mode='gaussian', seed=None, clip=True, mean=0, var=0.01) \n",
    "\n",
    "cv.imshow(\"source\", img)\n",
    "cv.imshow(\"lenna\",noise_img)\n",
    "#cv.imwrite('lenna_noise.png',noise_gs_img)\n",
    "cv.waitKey(0)\n",
    "cv.destroyAllWindows()"
   ],
   "metadata": {
    "collapsed": false,
    "ExecuteTime": {
     "end_time": "2024-04-19T02:57:39.313855Z",
     "start_time": "2024-04-19T02:57:29.623144Z"
    }
   },
   "id": "f33ea7258c284d09",
   "execution_count": 10
  }
 ],
 "metadata": {
  "kernelspec": {
   "display_name": "Python 3",
   "language": "python",
   "name": "python3"
  },
  "language_info": {
   "codemirror_mode": {
    "name": "ipython",
    "version": 2
   },
   "file_extension": ".py",
   "mimetype": "text/x-python",
   "name": "python",
   "nbconvert_exporter": "python",
   "pygments_lexer": "ipython2",
   "version": "2.7.6"
  }
 },
 "nbformat": 4,
 "nbformat_minor": 5
}
