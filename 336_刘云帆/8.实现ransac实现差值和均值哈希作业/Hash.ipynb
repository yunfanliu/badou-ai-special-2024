{
 "cells": [
  {
   "cell_type": "markdown",
   "source": [
    "1.  均值哈希算法\n",
    "2.  差值哈希算法\n",
    "3.  Hash值对比"
   ],
   "metadata": {
    "collapsed": false
   },
   "id": "a5a7751db2b3faa0"
  },
  {
   "cell_type": "code",
   "execution_count": 6,
   "id": "initial_id",
   "metadata": {
    "collapsed": true,
    "ExecuteTime": {
     "end_time": "2024-06-22T10:42:14.248626Z",
     "start_time": "2024-06-22T10:42:14.233078Z"
    }
   },
   "outputs": [],
   "source": [
    "import cv2\n",
    "import numpy as np"
   ]
  },
  {
   "cell_type": "markdown",
   "source": [
    "1.  均值哈希算法"
   ],
   "metadata": {
    "collapsed": false
   },
   "id": "99e39b8d7846fe5b"
  },
  {
   "cell_type": "code",
   "outputs": [],
   "source": [
    "#均值哈希算法\n",
    "def aHash(img):\n",
    "    #缩放为8*8\n",
    "    img=cv2.resize(img,(8,8),interpolation=cv2.INTER_CUBIC)\n",
    "    #转换为灰度图\n",
    "    gray=cv2.cvtColor(img,cv2.COLOR_BGR2GRAY)\n",
    "    #s为像素和初值为0，hash_str为hash值初值为''\n",
    "    s=0\n",
    "    hash_str=''\n",
    "    #遍历累加求像素和\n",
    "    for i in range(8):\n",
    "        for j in range(8):\n",
    "            s=s+gray[i,j]\n",
    "    #求平均灰度\n",
    "    avg=s/64\n",
    "    #灰度大于平均值为1相反为0生成图片的hash值\n",
    "    for i in range(8):\n",
    "        for j in range(8):\n",
    "            if  gray[i,j]>avg:\n",
    "                hash_str=hash_str+'1'\n",
    "            else:\n",
    "                hash_str=hash_str+'0'            \n",
    "    return hash_str"
   ],
   "metadata": {
    "collapsed": false,
    "ExecuteTime": {
     "end_time": "2024-06-22T10:42:14.264227Z",
     "start_time": "2024-06-22T10:42:14.250705Z"
    }
   },
   "id": "61548a93d7efb787",
   "execution_count": 7
  },
  {
   "cell_type": "markdown",
   "source": [
    "2.  差值哈希算法"
   ],
   "metadata": {
    "collapsed": false
   },
   "id": "1e6e281f59f7e56d"
  },
  {
   "cell_type": "code",
   "outputs": [],
   "source": [
    "#差值算法\n",
    "def dHash(img):\n",
    "    #缩放8*9\n",
    "    img=cv2.resize(img,(9,8),interpolation=cv2.INTER_CUBIC)\n",
    "    #转换灰度图\n",
    "    gray=cv2.cvtColor(img,cv2.COLOR_BGR2GRAY)\n",
    "    hash_str=''\n",
    "    #每行前一个像素大于后一个像素为1，相反为0，生成哈希\n",
    "    for i in range(8):\n",
    "        for j in range(8):\n",
    "            if   gray[i,j]>gray[i,j+1]:\n",
    "                hash_str=hash_str+'1'\n",
    "            else:\n",
    "                hash_str=hash_str+'0'\n",
    "    return hash_str"
   ],
   "metadata": {
    "collapsed": false,
    "ExecuteTime": {
     "end_time": "2024-06-22T10:42:14.279718Z",
     "start_time": "2024-06-22T10:42:14.265330Z"
    }
   },
   "id": "b5ec83577ec1bcad",
   "execution_count": 8
  },
  {
   "cell_type": "markdown",
   "source": [
    "3.  Hash值对比"
   ],
   "metadata": {
    "collapsed": false
   },
   "id": "44ad8ce785ef2ce9"
  },
  {
   "cell_type": "code",
   "outputs": [],
   "source": [
    "#Hash值对比\n",
    "def cmpHash(hash1,hash2):\n",
    "    n=0\n",
    "    #hash长度不同则返回-1代表传参出错\n",
    "    if len(hash1)!=len(hash2):\n",
    "        return -1\n",
    "    #遍历判断\n",
    "    for i in range(len(hash1)):\n",
    "        #不相等则n计数+1，n最终为相似度\n",
    "        if hash1[i]!=hash2[i]:\n",
    "            n=n+1\n",
    "    return n"
   ],
   "metadata": {
    "collapsed": false,
    "ExecuteTime": {
     "end_time": "2024-06-22T10:42:14.295945Z",
     "start_time": "2024-06-22T10:42:14.281741Z"
    }
   },
   "id": "508591771287d6c",
   "execution_count": 9
  },
  {
   "cell_type": "markdown",
   "source": [
    "导入图片进行Hash值对比"
   ],
   "metadata": {
    "collapsed": false
   },
   "id": "d01f2fe42026a3ea"
  },
  {
   "cell_type": "code",
   "outputs": [
    {
     "name": "stdout",
     "output_type": "stream",
     "text": [
      "1011111010011110100111011010100110101011101000110000111000101100\n",
      "1011111010011110100111011010100110101011101000110000111000101100\n",
      "均值哈希算法相似度： 0\n",
      "1000100110001101101000101010010001000110111011001010010110000011\n",
      "1000100110001101101000101010010001000110111011001010010110000011\n",
      "差值哈希算法相似度： 0\n"
     ]
    }
   ],
   "source": [
    "img1=cv2.imread('lenna.png')\n",
    "img2=cv2.imread('lenna_noise.png')\n",
    "hash1= aHash(img1)\n",
    "hash2= aHash(img2)\n",
    "print(hash1)\n",
    "print(hash2)\n",
    "n=cmpHash(hash1,hash2)\n",
    "print('均值哈希算法相似度：',n)\n",
    " \n",
    "hash1= dHash(img1)\n",
    "hash2= dHash(img2)\n",
    "print(hash1)\n",
    "print(hash2)\n",
    "n=cmpHash(hash1,hash2)\n",
    "print('差值哈希算法相似度：',n)"
   ],
   "metadata": {
    "collapsed": false,
    "ExecuteTime": {
     "end_time": "2024-06-22T10:42:14.327446Z",
     "start_time": "2024-06-22T10:42:14.296950Z"
    }
   },
   "id": "d868d7c67c868e05",
   "execution_count": 10
  }
 ],
 "metadata": {
  "kernelspec": {
   "display_name": "Python 3",
   "language": "python",
   "name": "python3"
  },
  "language_info": {
   "codemirror_mode": {
    "name": "ipython",
    "version": 2
   },
   "file_extension": ".py",
   "mimetype": "text/x-python",
   "name": "python",
   "nbconvert_exporter": "python",
   "pygments_lexer": "ipython2",
   "version": "2.7.6"
  }
 },
 "nbformat": 4,
 "nbformat_minor": 5
}
