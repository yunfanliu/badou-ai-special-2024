{
 "cells": [
  {
   "cell_type": "code",
   "execution_count": 7,
   "id": "initial_id",
   "metadata": {
    "collapsed": true,
    "ExecuteTime": {
     "end_time": "2024-06-22T11:54:37.778631Z",
     "start_time": "2024-06-22T11:54:37.753451Z"
    }
   },
   "outputs": [],
   "source": [
    "import cv2\n",
    "import numpy as np\n",
    "import time\n",
    "import os.path as path"
   ]
  },
  {
   "cell_type": "markdown",
   "source": [
    " 均值哈希算法"
   ],
   "metadata": {
    "collapsed": false
   },
   "id": "3cf0c83a2ee9b2ea"
  },
  {
   "cell_type": "code",
   "outputs": [],
   "source": [
    "def aHash(img, width=8, high=8):\n",
    "    \"\"\"\n",
    "    均值哈希算法\n",
    "    :param img: 图像数据\n",
    "    :param width: 图像缩放的宽度\n",
    "    :param high: 图像缩放的高度\n",
    "    :return:感知哈希序列\n",
    "    \"\"\"\n",
    "    # 缩放为8*8\n",
    "    img = cv2.resize(img, (width, high), interpolation=cv2.INTER_CUBIC)\n",
    "    # 转换为灰度图\n",
    "    gray = cv2.cvtColor(img, cv2.COLOR_BGR2GRAY)\n",
    "    # s为像素和初值为0，hash_str为hash值初值为''\n",
    "    s = 0\n",
    "    hash_str = ''\n",
    "    # 遍历累加求像素和\n",
    "    for i in range(8):\n",
    "        for j in range(8):\n",
    "            s = s + gray[i, j]\n",
    "\n",
    "    # 求平均灰度\n",
    "    avg = s / 64\n",
    "    # 灰度大于平均值为1相反为0生成图片的hash值\n",
    "    for i in range(8):\n",
    "        for j in range(8):\n",
    "            if gray[i, j] > avg:\n",
    "                hash_str = hash_str + '1'\n",
    "            else:\n",
    "                hash_str = hash_str + '0'\n",
    "    return hash_str\n",
    "\n",
    "\n"
   ],
   "metadata": {
    "collapsed": false,
    "ExecuteTime": {
     "end_time": "2024-06-22T11:54:37.794397Z",
     "start_time": "2024-06-22T11:54:37.782193Z"
    }
   },
   "id": "9b4333e701741995",
   "execution_count": 8
  },
  {
   "cell_type": "markdown",
   "source": [
    "差值感知算法"
   ],
   "metadata": {
    "collapsed": false
   },
   "id": "8438b477f3bf714f"
  },
  {
   "cell_type": "code",
   "outputs": [],
   "source": [
    "def dHash(img, width=9, high=8):\n",
    "    \"\"\"\n",
    "    差值感知算法\n",
    "    :param img:图像数据\n",
    "    :param width:图像缩放后的宽度\n",
    "    :param high: 图像缩放后的高度\n",
    "    :return:感知哈希序列\n",
    "    \"\"\"\n",
    "    # 缩放8*8\n",
    "    img = cv2.resize(img, (width, high), interpolation=cv2.INTER_CUBIC)\n",
    "    # 转换灰度图\n",
    "    gray = cv2.cvtColor(img, cv2.COLOR_BGR2GRAY)\n",
    "    hash_str = ''\n",
    "    # 每行前一个像素大于后一个像素为1，反之置为0，生成感知哈希序列（string）\n",
    "    for i in range(high):\n",
    "        for j in range(high):\n",
    "            if gray[i, j] > gray[i, j + 1]:\n",
    "                hash_str = hash_str + '1'\n",
    "            else:\n",
    "                hash_str = hash_str + '0'\n",
    "    return hash_str\n",
    "\n",
    "\n"
   ],
   "metadata": {
    "collapsed": false,
    "ExecuteTime": {
     "end_time": "2024-06-22T11:54:37.809877Z",
     "start_time": "2024-06-22T11:54:37.796524Z"
    }
   },
   "id": "393c20f8aa630a8",
   "execution_count": 9
  },
  {
   "cell_type": "markdown",
   "source": [
    "Hash值对比"
   ],
   "metadata": {
    "collapsed": false
   },
   "id": "844f5c0dd12f8c1f"
  },
  {
   "cell_type": "code",
   "outputs": [],
   "source": [
    "def cmp_hash(hash1, hash2):\n",
    "    \"\"\"\n",
    "    Hash值对比\n",
    "    :param hash1: 感知哈希序列1\n",
    "    :param hash2: 感知哈希序列2\n",
    "    :return: 返回相似度\n",
    "    \"\"\"\n",
    "    n = 0\n",
    "    # hash长度不同则返回-1代表传参出错\n",
    "    if len(hash1) != len(hash2):\n",
    "        return -1\n",
    "    # 遍历判断\n",
    "    for i in range(len(hash1)):\n",
    "        # 不相等则n计数+1，n最终为相似度\n",
    "        if hash1[i] != hash2[i]:\n",
    "            n = n + 1\n",
    "\n",
    "    return 1 - n / len(hash2)\n",
    "\n",
    "\n"
   ],
   "metadata": {
    "collapsed": false,
    "ExecuteTime": {
     "end_time": "2024-06-22T11:54:37.825203Z",
     "start_time": "2024-06-22T11:54:37.812384Z"
    }
   },
   "id": "aeea4bd04be9abb3",
   "execution_count": 10
  },
  {
   "cell_type": "markdown",
   "source": [
    "感知哈希算法"
   ],
   "metadata": {
    "collapsed": false
   },
   "id": "947781bff1293d1e"
  },
  {
   "cell_type": "code",
   "outputs": [],
   "source": [
    "def pHash(img_file, width=64, high=64):\n",
    "    \"\"\"\n",
    "    感知哈希算法\n",
    "    :param img_file: 图像数据\n",
    "    :param width: 图像缩放后的宽度\n",
    "    :param high:图像缩放后的高度\n",
    "    :return:图像感知哈希序列\n",
    "    \"\"\"\n",
    "    # 加载并调整图片为32x32灰度图片\n",
    "    img = cv2.imread(img_file, 0)\n",
    "    img = cv2.resize(img, (width, high), interpolation=cv2.INTER_CUBIC)\n",
    "\n",
    "    # 创建二维列表\n",
    "    h, w = img.shape[:2]\n",
    "    vis0 = np.zeros((h, w), np.float32)\n",
    "    vis0[:h, :w] = img  # 填充数据\n",
    "\n",
    "    # 二维Dct变换\n",
    "    vis1 = cv2.dct(cv2.dct(vis0))\n",
    "    vis1.resize(32, 32)\n",
    "\n",
    "    # 把二维list变成一维list\n",
    "    img_list = vis1.flatten()\n",
    "\n",
    "    # 计算均值\n",
    "    avg = sum(img_list) * 1. / len(img_list)\n",
    "    avg_list = ['0' if i > avg else '1' for i in img_list]\n",
    "\n",
    "    # 得到哈希值\n",
    "    return ''.join(['%x' % int(''.join(avg_list[x:x + 4]), 2) for x in range(0, 32 * 32, 4)])"
   ],
   "metadata": {
    "collapsed": false,
    "ExecuteTime": {
     "end_time": "2024-06-22T11:54:37.840719Z",
     "start_time": "2024-06-22T11:54:37.826329Z"
    }
   },
   "id": "aa3784463ca182e9",
   "execution_count": 11
  },
  {
   "cell_type": "code",
   "outputs": [
    {
     "name": "stdout",
     "output_type": "stream",
     "text": [
      ">>> 执行1000次耗费的时间为0.0623 s.\n",
      ">>> 执行1000次耗费的时间为0.0596 s.\n",
      ">>> 执行1000次耗费的时间为0.0622 s.\n",
      ">>> 执行1000次耗费的时间为0.0587 s.\n",
      ">>> 执行1000次耗费的时间为0.0604 s.\n",
      ">>> 执行1000次耗费的时间为0.0588 s.\n",
      ">>> 执行1000次耗费的时间为0.0586 s.\n",
      ">>> 执行1000次耗费的时间为0.0610 s.\n",
      "均值哈希算法相似度：98.44 % -----time=0.0000 ms\n",
      "差值哈希算法相似度：96.88 % -----time=0.0010 ms\n",
      "感知哈希算法相似度：96.48 % -----time=0.0111 ms\n"
     ]
    }
   ],
   "source": [
    "def hamming_dist(s1, s2):\n",
    "    return 1 - sum([ch1 != ch2 for ch1, ch2 in zip(s1, s2)]) * 1. / (32 * 32 / 4)\n",
    "    \n",
    "\n",
    "\n",
    "def concat_info(type_str, score, time):\n",
    "    temp = '%s相似度：%.2f %% -----time=%.4f ms' % (type_str, score * 100, time)\n",
    "    print(temp)\n",
    "    return temp\n",
    "\n",
    "\n",
    "def test_diff_hash(img1_path, img2_path, loops=1000):\n",
    "    img1 = cv2.imread(img1_path)\n",
    "    img2 = cv2.imread(img2_path)\n",
    "    start_time = time.time()\n",
    "\n",
    "    for _ in range(loops):\n",
    "        hash1 = dHash(img1)\n",
    "        hash2 = dHash(img2)\n",
    "        cmp_hash(hash1, hash2)\n",
    "\n",
    "    print(\">>> 执行%s次耗费的时间为%.4f s.\" % (loops, time.time() - start_time))\n",
    "\n",
    "\n",
    "def test_aHash(img1, img2):\n",
    "    time1 = time.time()\n",
    "    hash1 = aHash(img1)\n",
    "    hash2 = aHash(img2)\n",
    "    n = cmp_hash(hash1, hash2)\n",
    "    return concat_info(\"均值哈希算法\", n, time.time() - time1) + \"\\n\"\n",
    "\n",
    "\n",
    "def test_dHash(img1, img2):\n",
    "    time1 = time.time()\n",
    "    hash1 = dHash(img1)\n",
    "    hash2 = dHash(img2)\n",
    "    n = cmp_hash(hash1, hash2)\n",
    "    return concat_info(\"差值哈希算法\", n, time.time() - time1) + \"\\n\"\n",
    "\n",
    "\n",
    "def test_pHash(img1_path, img2_path):\n",
    "    time1 = time.time()\n",
    "    hash1 = pHash(img1_path)\n",
    "    hash2 = pHash(img2_path)\n",
    "    n = hamming_dist(hash1, hash2)\n",
    "    return concat_info(\"感知哈希算法\", n, time.time() - time1) + \"\\n\"\n",
    "\n",
    "\n",
    "def deal(img1_path, img2_path):\n",
    "    info = ''\n",
    "\n",
    "    img1 = cv2.imread(img1_path)\n",
    "    img2 = cv2.imread(img2_path)\n",
    "\n",
    "    # 计算图像哈希相似度\n",
    "    info = info + test_aHash(img1, img2)\n",
    "    info = info + test_dHash(img1, img2)\n",
    "    info = info + test_pHash(img1_path, img2_path)\n",
    "    return info\n",
    "\n",
    "\n",
    "def contact_path(file_name):\n",
    "    output_path = \"\"\n",
    "    return path.join(output_path, file_name)\n",
    "\n",
    "\n",
    "def main():\n",
    "    data_img_name = 'lenna.png'\n",
    "    data_img_name_base = data_img_name.split(\".\")[0]\n",
    "\n",
    "    base = contact_path(data_img_name)\n",
    "    light = contact_path(\"%s_light.jpg\" % data_img_name_base)\n",
    "    resize = contact_path(\"%s_resize.jpg\" % data_img_name_base)\n",
    "    contrast = contact_path(\"%s_contrast.jpg\" % data_img_name_base)\n",
    "    sharp = contact_path(\"%s_sharp.jpg\" % data_img_name_base)\n",
    "    blur = contact_path(\"%s_blur.jpg\" % data_img_name_base)\n",
    "    color = contact_path(\"%s_color.jpg\" % data_img_name_base)\n",
    "    rotate = contact_path(\"%s_rotate.jpg\" % data_img_name_base)\n",
    "\n",
    "    # 测试算法的效率\n",
    "    test_diff_hash(base, base)\n",
    "    test_diff_hash(base, light)\n",
    "    test_diff_hash(base, resize)\n",
    "    test_diff_hash(base, contrast)\n",
    "    test_diff_hash(base, sharp)\n",
    "    test_diff_hash(base, blur)\n",
    "    test_diff_hash(base, color)\n",
    "    test_diff_hash(base, rotate)\n",
    "    \n",
    "    # 测试算法的精度(以base和light为例)\n",
    "    deal(base, light)\n",
    "    \n",
    "\n",
    "if __name__ == '__main__':\n",
    "    main()"
   ],
   "metadata": {
    "collapsed": false,
    "ExecuteTime": {
     "end_time": "2024-06-22T11:54:38.433776Z",
     "start_time": "2024-06-22T11:54:37.843051Z"
    }
   },
   "id": "2662008b0713bb2d",
   "execution_count": 12
  }
 ],
 "metadata": {
  "kernelspec": {
   "display_name": "Python 3",
   "language": "python",
   "name": "python3"
  },
  "language_info": {
   "codemirror_mode": {
    "name": "ipython",
    "version": 2
   },
   "file_extension": ".py",
   "mimetype": "text/x-python",
   "name": "python",
   "nbconvert_exporter": "python",
   "pygments_lexer": "ipython2",
   "version": "2.7.6"
  }
 },
 "nbformat": 4,
 "nbformat_minor": 5
}
