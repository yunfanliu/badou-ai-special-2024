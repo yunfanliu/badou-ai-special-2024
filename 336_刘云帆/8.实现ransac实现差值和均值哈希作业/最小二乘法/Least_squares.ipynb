{
 "cells": [
  {
   "cell_type": "code",
   "execution_count": 1,
   "id": "initial_id",
   "metadata": {
    "collapsed": true,
    "ExecuteTime": {
     "end_time": "2024-06-22T12:01:25.848863Z",
     "start_time": "2024-06-22T12:01:25.457450Z"
    }
   },
   "outputs": [],
   "source": [
    "import pandas as pd"
   ]
  },
  {
   "cell_type": "code",
   "outputs": [
    {
     "name": "stdout",
     "output_type": "stream",
     "text": [
      "Coeff: 1.4 Intercept: 3.5\n"
     ]
    }
   ],
   "source": [
    "\n",
    "\n",
    "sales=pd.read_csv('train_data.csv',sep='\\s*,\\s*',engine='python')  #读取CSV\n",
    "X=sales['X'].values    #存csv的第一列\n",
    "Y=sales['Y'].values    #存csv的第二列\n",
    "\n",
    "#初始化赋值\n",
    "s1 = 0     \n",
    "s2 = 0\n",
    "s3 = 0     \n",
    "s4 = 0\n",
    "n = 4       ####你需要根据的数据量进行修改\n",
    "\n",
    "#循环累加\n",
    "for i in range(n):\n",
    "    s1 = s1 + X[i]*Y[i]     #X*Y，求和\n",
    "    s2 = s2 + X[i]          #X的和\n",
    "    s3 = s3 + Y[i]          #Y的和\n",
    "    s4 = s4 + X[i]*X[i]     #X**2，求和\n",
    "\n",
    "#计算斜率和截距\n",
    "k = (s2*s3-n*s1)/(s2*s2-s4*n)\n",
    "b = (s3 - k*s2)/n\n",
    "print(\"Coeff: {} Intercept: {}\".format(k, b))\n",
    "#y=1.4x+3.5\n"
   ],
   "metadata": {
    "collapsed": false,
    "ExecuteTime": {
     "end_time": "2024-06-22T12:01:25.879363Z",
     "start_time": "2024-06-22T12:01:25.850868Z"
    }
   },
   "id": "785c0fb98b0522f4",
   "execution_count": 2
  }
 ],
 "metadata": {
  "kernelspec": {
   "display_name": "Python 3",
   "language": "python",
   "name": "python3"
  },
  "language_info": {
   "codemirror_mode": {
    "name": "ipython",
    "version": 2
   },
   "file_extension": ".py",
   "mimetype": "text/x-python",
   "name": "python",
   "nbconvert_exporter": "python",
   "pygments_lexer": "ipython2",
   "version": "2.7.6"
  }
 },
 "nbformat": 4,
 "nbformat_minor": 5
}
