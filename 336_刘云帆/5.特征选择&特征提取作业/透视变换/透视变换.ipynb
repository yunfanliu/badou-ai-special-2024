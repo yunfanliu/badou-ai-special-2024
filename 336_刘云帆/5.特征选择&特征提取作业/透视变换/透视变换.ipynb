{
 "cells": [
  {
   "cell_type": "markdown",
   "source": [
    "目的：透视变换"
   ],
   "metadata": {
    "collapsed": false
   },
   "id": "580c15b6e8294700"
  },
  {
   "cell_type": "markdown",
   "source": [
    "1. 导入模块"
   ],
   "metadata": {
    "collapsed": false
   },
   "id": "ec41e06754f7ba29"
  },
  {
   "cell_type": "code",
   "outputs": [],
   "source": [
    "import cv2\n",
    "import numpy as np"
   ],
   "metadata": {
    "collapsed": false,
    "ExecuteTime": {
     "end_time": "2024-05-11T10:18:04.354917Z",
     "start_time": "2024-05-11T10:18:04.181875Z"
    }
   },
   "id": "155c202071cd5a99",
   "execution_count": 1
  },
  {
   "cell_type": "markdown",
   "source": [
    "2. 确定原图和目标图的四个顶点坐标"
   ],
   "metadata": {
    "collapsed": false
   },
   "id": "ff8482daa95928b5"
  },
  {
   "cell_type": "code",
   "execution_count": 2,
   "id": "initial_id",
   "metadata": {
    "collapsed": true,
    "ExecuteTime": {
     "end_time": "2024-05-11T10:18:04.385676Z",
     "start_time": "2024-05-11T10:18:04.357059Z"
    }
   },
   "outputs": [
    {
     "name": "stdout",
     "output_type": "stream",
     "text": [
      "(960, 540, 3)\n"
     ]
    }
   ],
   "source": [
    "img = cv2.imread('photo1.jpg')\n",
    "\n",
    "result3 = img.copy()\n",
    "\n",
    "'''\n",
    "注意这里src和dst的输入并不是图像，而是图像对应的顶点坐标。\n",
    "'''\n",
    "src = np.float32([[207, 151], [517, 285], [17, 601], [343, 731]])\n",
    "dst = np.float32([[0, 0], [337, 0], [0, 488], [337, 488]])\n",
    "print(img.shape)\n"
   ]
  },
  {
   "cell_type": "markdown",
   "source": [
    "3. 调用函数，打印出变换之后的图"
   ],
   "metadata": {
    "collapsed": false
   },
   "id": "dadd43bd80d76912"
  },
  {
   "cell_type": "code",
   "outputs": [
    {
     "name": "stdout",
     "output_type": "stream",
     "text": [
      "warpMatrix:\n",
      "[[ 8.92263779e-01  3.76733596e-01 -2.41585375e+02]\n",
      " [-4.08140258e-01  9.44205073e-01 -5.80899328e+01]\n",
      " [-8.53836442e-05  5.16464182e-05  1.00000000e+00]]\n"
     ]
    },
    {
     "data": {
      "text/plain": "-1"
     },
     "execution_count": 3,
     "metadata": {},
     "output_type": "execute_result"
    }
   ],
   "source": [
    "# 生成透视变换矩阵；进行透视变换\n",
    "m = cv2.getPerspectiveTransform(src, dst)\n",
    "print(\"warpMatrix:\")\n",
    "print(m)\n",
    "result = cv2.warpPerspective(result3, m, (337, 488))\n",
    "cv2.imshow(\"src\", img)\n",
    "cv2.imshow(\"result\", result)\n",
    "cv2.waitKey(0)"
   ],
   "metadata": {
    "collapsed": false,
    "ExecuteTime": {
     "end_time": "2024-05-11T10:18:07.801936Z",
     "start_time": "2024-05-11T10:18:04.386693Z"
    }
   },
   "id": "f44d99690bbb166",
   "execution_count": 3
  }
 ],
 "metadata": {
  "kernelspec": {
   "display_name": "Python 3",
   "language": "python",
   "name": "python3"
  },
  "language_info": {
   "codemirror_mode": {
    "name": "ipython",
    "version": 2
   },
   "file_extension": ".py",
   "mimetype": "text/x-python",
   "name": "python",
   "nbconvert_exporter": "python",
   "pygments_lexer": "ipython2",
   "version": "2.7.6"
  }
 },
 "nbformat": 4,
 "nbformat_minor": 5
}
