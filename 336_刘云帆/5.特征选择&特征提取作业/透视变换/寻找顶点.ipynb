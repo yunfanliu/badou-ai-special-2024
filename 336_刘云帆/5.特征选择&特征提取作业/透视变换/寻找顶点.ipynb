{
 "cells": [
  {
   "cell_type": "markdown",
   "source": [
    "目的：寻找目标图像的顶点，并圈出来\n",
    "\n",
    "'''\n",
    "cv2.approxPolyDP() 多边形逼近\n",
    "作用:\n",
    "对目标图像进行近似多边形拟合，使用一个较少顶点的多边形去拟合一个曲线轮廓，要求拟合曲线与实际轮廓曲线的距离小于某一阀值。\n",
    "\n",
    "函数原形：\n",
    "cv2.approxPolyDP(curve, epsilon, closed) -> approxCurve\n",
    "\n",
    "参数：\n",
    "curve ： 图像轮廓点集，一般由轮廓检测得到\n",
    "epsilon ： 原始曲线与近似曲线的最大距离，参数越小，两直线越接近\n",
    "closed ： 得到的近似曲线是否封闭，一般为True\n",
    "\n",
    "返回值：\n",
    "approxCurve ：返回的拟合后的多边形顶点集。\n",
    "'''"
   ],
   "metadata": {
    "collapsed": false
   },
   "id": "c773780524b0597f"
  },
  {
   "cell_type": "markdown",
   "source": [
    "1. 导入模块"
   ],
   "metadata": {
    "collapsed": false
   },
   "id": "194bdd50cbd8b3b5"
  },
  {
   "cell_type": "code",
   "outputs": [],
   "source": [
    "import cv2\n",
    "#import imutils"
   ],
   "metadata": {
    "collapsed": false,
    "ExecuteTime": {
     "end_time": "2024-05-11T10:15:01.005226Z",
     "start_time": "2024-05-11T10:15:00.801019Z"
    }
   },
   "id": "cf063c2cfea97968",
   "execution_count": 1
  },
  {
   "cell_type": "code",
   "execution_count": 2,
   "id": "initial_id",
   "metadata": {
    "collapsed": true,
    "ExecuteTime": {
     "end_time": "2024-05-11T10:15:06.323302Z",
     "start_time": "2024-05-11T10:15:01.006727Z"
    }
   },
   "outputs": [
    {
     "data": {
      "text/plain": "-1"
     },
     "execution_count": 2,
     "metadata": {},
     "output_type": "execute_result"
    }
   ],
   "source": [
    "# 边缘检测\n",
    "img = cv2.imread('photo1.jpg')\n",
    "gray = cv2.cvtColor(img, cv2.COLOR_BGR2GRAY)\n",
    "blurred = cv2.GaussianBlur(gray, (5, 5), 0)\n",
    "dilate = cv2.dilate(blurred, cv2.getStructuringElement(cv2.MORPH_RECT, (3, 3)))\n",
    "edged = cv2.Canny(dilate, 30, 120, 3)            # 边缘检测\n",
    "\n",
    "# 轮廓检测\n",
    "cnts = cv2.findContours(edged.copy(), cv2.RETR_EXTERNAL, cv2.CHAIN_APPROX_SIMPLE)  # 轮廓检测\n",
    "cnts = cnts[0] \n",
    "#if imutils.is_cv2() else cnts[1]  # 判断是opencv2还是opencv3\n",
    "docCnt = None\n",
    "\n",
    "# 寻找最大轮廓，找到纸张\n",
    "if len(cnts) > 0:\n",
    "    cnts = sorted(cnts, key=cv2.contourArea, reverse=True) # 根据轮廓面积从大到小排序\n",
    "    for c in cnts:\n",
    "        peri = cv2.arcLength(c, True)                           # 计算轮廓周长\n",
    "        approx = cv2.approxPolyDP(c, 0.02*peri, True)           # 轮廓多边形拟合\n",
    "        # 轮廓为4个点表示找到纸张\n",
    "        if len(approx) == 4:\n",
    "            docCnt = approx\n",
    "            break\n",
    "\n",
    "for peak in docCnt:\n",
    "    peak = peak[0]\n",
    "    cv2.circle(img, tuple(peak), 10, (255, 0, 0))\n",
    "\n",
    "cv2.imshow('img', img)\n",
    "cv2.waitKey(0)"
   ]
  }
 ],
 "metadata": {
  "kernelspec": {
   "display_name": "Python 3",
   "language": "python",
   "name": "python3"
  },
  "language_info": {
   "codemirror_mode": {
    "name": "ipython",
    "version": 2
   },
   "file_extension": ".py",
   "mimetype": "text/x-python",
   "name": "python",
   "nbconvert_exporter": "python",
   "pygments_lexer": "ipython2",
   "version": "2.7.6"
  }
 },
 "nbformat": 4,
 "nbformat_minor": 5
}
