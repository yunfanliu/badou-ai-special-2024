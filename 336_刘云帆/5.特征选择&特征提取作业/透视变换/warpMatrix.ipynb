{
 "cells": [
  {
   "cell_type": "markdown",
   "source": [
    "目的：构造一个求warpMatrix的函数"
   ],
   "metadata": {
    "collapsed": false
   },
   "id": "abe459eae95cd7ff"
  },
  {
   "cell_type": "markdown",
   "source": [
    "1. 导入模块"
   ],
   "metadata": {
    "collapsed": false
   },
   "id": "681cf0811e8129ab"
  },
  {
   "cell_type": "code",
   "execution_count": 7,
   "id": "initial_id",
   "metadata": {
    "collapsed": true,
    "ExecuteTime": {
     "end_time": "2024-05-11T10:10:09.611458Z",
     "start_time": "2024-05-11T10:10:09.608346Z"
    }
   },
   "outputs": [],
   "source": [
    "import numpy as np"
   ]
  },
  {
   "cell_type": "markdown",
   "source": [
    "2. 开始构造函数"
   ],
   "metadata": {
    "collapsed": false
   },
   "id": "51a8390ee7ebf4a1"
  },
  {
   "cell_type": "code",
   "outputs": [],
   "source": [
    "def WarpPerspectiveMatrix(src, dst):\n",
    "    assert src.shape[0] == dst.shape[0] and src.shape[0] >= 4\n",
    "    \n",
    "    nums = src.shape[0]\n",
    "    A = np.zeros((2*nums, 8)) # A*warpMatrix=B\n",
    "    B = np.zeros((2*nums, 1))\n",
    "    for i in range(0, nums):\n",
    "        A_i = src[i,:]\n",
    "        B_i = dst[i,:]\n",
    "        A[2*i, :] = [A_i[0], A_i[1], 1, 0, 0, 0,\n",
    "                       -A_i[0]*B_i[0], -A_i[1]*B_i[0]]\n",
    "        B[2*i] = B_i[0]\n",
    "        \n",
    "        A[2*i+1, :] = [0, 0, 0, A_i[0], A_i[1], 1,\n",
    "                       -A_i[0]*B_i[1], -A_i[1]*B_i[1]]\n",
    "        B[2*i+1] = B_i[1]\n",
    " \n",
    "    A = np.mat(A)\n",
    "    #用A.I求出A的逆矩阵，然后与B相乘，求出warpMatrix\n",
    "    warpMatrix = A.I * B #求出a_11, a_12, a_13, a_21, a_22, a_23, a_31, a_32\n",
    "    \n",
    "    #之后为结果的后处理\n",
    "    warpMatrix = np.array(warpMatrix).T[0]\n",
    "    warpMatrix = np.insert(warpMatrix, warpMatrix.shape[0], values=1.0, axis=0) #插入a_33 = 1\n",
    "    warpMatrix = warpMatrix.reshape((3, 3))\n",
    "    return warpMatrix"
   ],
   "metadata": {
    "collapsed": false,
    "ExecuteTime": {
     "end_time": "2024-05-11T10:10:09.642018Z",
     "start_time": "2024-05-11T10:10:09.621821Z"
    }
   },
   "id": "38d77dd09950f159",
   "execution_count": 8
  },
  {
   "cell_type": "markdown",
   "source": [
    "3. 调用函数测试"
   ],
   "metadata": {
    "collapsed": false
   },
   "id": "432b0df3ddec88be"
  },
  {
   "cell_type": "code",
   "outputs": [
    {
     "name": "stdout",
     "output_type": "stream",
     "text": [
      "warpMatrix\n",
      "[[-5.01338334e-01 -1.35357643e+00  5.82386716e+02]\n",
      " [ 1.06858966e-15 -4.84035391e+00  1.38781980e+03]\n",
      " [ 4.33680869e-19 -4.14856327e-03  1.00000000e+00]]\n"
     ]
    }
   ],
   "source": [
    "if __name__ == '__main__':\n",
    "    print('warpMatrix')\n",
    "    src = [[10.0, 457.0], [395.0, 291.0], [624.0, 291.0], [1000.0, 457.0]]\n",
    "    src = np.array(src)\n",
    "    \n",
    "    dst = [[46.0, 920.0], [46.0, 100.0], [600.0, 100.0], [600.0, 920.0]]\n",
    "    dst = np.array(dst)\n",
    "    \n",
    "    warpMatrix = WarpPerspectiveMatrix(src, dst)\n",
    "    print(warpMatrix)"
   ],
   "metadata": {
    "collapsed": false,
    "ExecuteTime": {
     "end_time": "2024-05-11T10:10:09.687204Z",
     "start_time": "2024-05-11T10:10:09.644528Z"
    }
   },
   "id": "5938cb303a08e2e5",
   "execution_count": 9
  }
 ],
 "metadata": {
  "kernelspec": {
   "display_name": "Python 3",
   "language": "python",
   "name": "python3"
  },
  "language_info": {
   "codemirror_mode": {
    "name": "ipython",
    "version": 2
   },
   "file_extension": ".py",
   "mimetype": "text/x-python",
   "name": "python",
   "nbconvert_exporter": "python",
   "pygments_lexer": "ipython2",
   "version": "2.7.6"
  }
 },
 "nbformat": 4,
 "nbformat_minor": 5
}
