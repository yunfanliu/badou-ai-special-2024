{
 "cells": [
  {
   "cell_type": "markdown",
   "source": [
    "调用cv2.Canny()函数，对图像进行边缘提取：\n",
    "1. 灰度化\n",
    "2. 对灰度化图像进行边缘提取"
   ],
   "metadata": {
    "collapsed": false
   },
   "id": "7fa8c287b39d17b7"
  },
  {
   "cell_type": "code",
   "execution_count": null,
   "id": "initial_id",
   "metadata": {
    "collapsed": true
   },
   "outputs": [],
   "source": [
    "import cv2"
   ]
  },
  {
   "cell_type": "code",
   "outputs": [],
   "source": [
    "'''\n",
    "cv2.Canny(image, threshold1, threshold2[, edges[, apertureSize[, L2gradient ]]])   \n",
    "必要参数：\n",
    "第一个参数是需要处理的原图像，该图像必须为单通道的灰度图；\n",
    "第二个参数是阈值1；\n",
    "第三个参数是阈值2。\n",
    "'''\n",
    "\n",
    "img = cv2.imread(\"lenna.png\", 1)\n",
    "#灰度化\n",
    "gray = cv2.cvtColor(img, cv2.COLOR_BGR2GRAY)\n",
    "#边缘提取\n",
    "cv2.imshow(\"canny\", cv2.Canny(gray, 200, 300))\n",
    "cv2.waitKey()\n",
    "cv2.destroyAllWindows()"
   ],
   "metadata": {
    "collapsed": false
   },
   "id": "7a5cba061b4d0e1"
  }
 ],
 "metadata": {
  "kernelspec": {
   "display_name": "Python 3",
   "language": "python",
   "name": "python3"
  },
  "language_info": {
   "codemirror_mode": {
    "name": "ipython",
    "version": 2
   },
   "file_extension": ".py",
   "mimetype": "text/x-python",
   "name": "python",
   "nbconvert_exporter": "python",
   "pygments_lexer": "ipython2",
   "version": "2.7.6"
  }
 },
 "nbformat": 4,
 "nbformat_minor": 5
}
