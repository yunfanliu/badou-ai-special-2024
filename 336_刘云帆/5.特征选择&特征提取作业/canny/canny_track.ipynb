{
 "cells": [
  {
   "cell_type": "markdown",
   "source": [
    "# Canny边缘检测：优化的程序\n",
    "\n",
    "设置调节杠，对边缘提取的阈值进行调节"
   ],
   "metadata": {
    "collapsed": false
   },
   "id": "b9b97d75e617669e"
  },
  {
   "cell_type": "code",
   "outputs": [],
   "source": [
    "import cv2"
   ],
   "metadata": {
    "collapsed": false
   },
   "id": "278a601e297359dd"
  },
  {
   "cell_type": "markdown",
   "source": [],
   "metadata": {
    "collapsed": false
   },
   "id": "e4e94eac62cb3872"
  },
  {
   "cell_type": "code",
   "execution_count": null,
   "id": "initial_id",
   "metadata": {
    "collapsed": true
   },
   "outputs": [],
   "source": [
    "def CannyThreshold(lowThreshold):  \n",
    "    #detected_edges = cv2.GaussianBlur(gray,(3,3),0) #高斯滤波 \n",
    "    detected_edges = cv2.Canny(gray,\n",
    "            lowThreshold,\n",
    "            lowThreshold*ratio,\n",
    "            apertureSize = kernel_size)  #边缘检测\n",
    " \n",
    "     #用原始颜色添加到检测的边缘上。 \n",
    "     #按位“与”操作。对于每个像素,将两幅输入图像相应位置的像素值分别进行按位“与”运算,输出的结果图像的对应像素值即为这两幅输入图像对应像素值的按位与结果。\n",
    "     #src1和src2表示要进行按位“与”操作的两幅输入图像；\n",
    "     #mask 是可选参数，如果指定了掩膜，则只对掩膜对应位置的像素进行按位“与”操作。函数的返回值表示按位“与”运算的结果。\n",
    "    dst = cv2.bitwise_and(img,img,mask = detected_edges)  \n",
    "    cv2.imshow('canny result',dst)  \n",
    "  \n",
    " \n"
   ]
  },
  {
   "cell_type": "markdown",
   "source": [
    "参数设置"
   ],
   "metadata": {
    "collapsed": false
   },
   "id": "4f07bfe5c965a3a"
  },
  {
   "cell_type": "code",
   "outputs": [],
   "source": [
    "lowThreshold = 0  \n",
    "max_lowThreshold = 100  \n",
    "ratio = 3  \n",
    "kernel_size = 3  \n",
    "  \n",
    "img = cv2.imread('lenna.png')  \n",
    "gray = cv2.cvtColor(img,cv2.COLOR_BGR2GRAY)  #转换彩色图像为灰度图\n",
    "  \n",
    "cv2.namedWindow('canny result')  \n",
    "  \n",
    "#设置调节杠,\n",
    "'''\n",
    "下面是第二个函数，cv2.createTrackbar()\n",
    "共有5个参数，其实这五个参数看变量名就大概能知道是什么意思了\n",
    "第一个参数，是这个trackbar对象的名字\n",
    "第二个参数，是这个trackbar对象所在面板的名字\n",
    "第三个参数，是这个trackbar的默认值,也是调节的对象\n",
    "第四个参数，是这个trackbar上调节的范围(0~count)\n",
    "第五个参数，是调节trackbar时调用的回调函数名\n",
    "'''\n",
    "cv2.createTrackbar('Min threshold','canny result',lowThreshold, max_lowThreshold, CannyThreshold)  \n",
    "  \n",
    "CannyThreshold(0)  # initialization  "
   ],
   "metadata": {
    "collapsed": false
   },
   "id": "46adaa96a6dd5029"
  }
 ],
 "metadata": {
  "kernelspec": {
   "display_name": "Python 3",
   "language": "python",
   "name": "python3"
  },
  "language_info": {
   "codemirror_mode": {
    "name": "ipython",
    "version": 2
   },
   "file_extension": ".py",
   "mimetype": "text/x-python",
   "name": "python",
   "nbconvert_exporter": "python",
   "pygments_lexer": "ipython2",
   "version": "2.7.6"
  }
 },
 "nbformat": 4,
 "nbformat_minor": 5
}
