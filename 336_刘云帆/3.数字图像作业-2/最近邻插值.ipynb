{
 "cells": [
  {
   "cell_type": "markdown",
   "source": [
    "# 1、要用的导入模块"
   ],
   "metadata": {
    "collapsed": false
   },
   "id": "595161f9cd90883e"
  },
  {
   "cell_type": "code",
   "execution_count": 28,
   "id": "initial_id",
   "metadata": {
    "collapsed": true,
    "ExecuteTime": {
     "end_time": "2024-04-03T09:47:21.435170Z",
     "start_time": "2024-04-03T09:47:21.431705Z"
    }
   },
   "outputs": [],
   "source": [
    "import cv2\n",
    "import numpy as np"
   ]
  },
  {
   "cell_type": "markdown",
   "source": [
    "# 2、创建一个插值函数"
   ],
   "metadata": {
    "collapsed": false
   },
   "id": "574f41719e398bcd"
  },
  {
   "cell_type": "code",
   "outputs": [],
   "source": [
    "def NearestInterpolation(img):\n",
    "    h,w,c=img.shape  #获取src图 h，w，c\n",
    "    emptImage = np.zeros((800,800,c),dtype=np.uint8)  #创建dst图的空图  \n",
    "    sh = 800/h   #dst图和src图的宽高比\n",
    "    sw = 800/w\n",
    "    for i in range(800):\n",
    "        for j in range(800):\n",
    "            x = int(i/sh+0.5)\n",
    "            y = int(j/sw+0.5) \n",
    "            emptImage[i,j] = img[x,y]  #这里的emptImage[i,j]，直接表示的是三个通道的像素值 例如：[108 148 232]\n",
    "                \n",
    "    return emptImage"
   ],
   "metadata": {
    "collapsed": false,
    "ExecuteTime": {
     "end_time": "2024-04-03T09:47:21.450554Z",
     "start_time": "2024-04-03T09:47:21.445570Z"
    }
   },
   "id": "5de2297d34325182",
   "execution_count": 29
  },
  {
   "cell_type": "markdown",
   "source": [
    "# 3、调用函数NearestInterpolation，处理原图img"
   ],
   "metadata": {
    "collapsed": false
   },
   "id": "8a7805ddeceb3fde"
  },
  {
   "cell_type": "code",
   "outputs": [
    {
     "data": {
      "text/plain": "-1"
     },
     "execution_count": 30,
     "metadata": {},
     "output_type": "execute_result"
    }
   ],
   "source": [
    "img=cv2.imread(\"lenna.png\")\n",
    "zoom=NearestInterpolation(img)\n",
    "\n",
    "#打印原图和插值图\n",
    "cv2.imshow(\"dst\",zoom)\n",
    "cv2.imshow(\"src\",img)\n",
    "cv2.waitKey(0)\n"
   ],
   "metadata": {
    "collapsed": false,
    "ExecuteTime": {
     "end_time": "2024-04-03T09:47:28.959302Z",
     "start_time": "2024-04-03T09:47:21.458805Z"
    }
   },
   "id": "985f17928145bd51",
   "execution_count": 30
  }
 ],
 "metadata": {
  "kernelspec": {
   "display_name": "Python 3",
   "language": "python",
   "name": "python3"
  },
  "language_info": {
   "codemirror_mode": {
    "name": "ipython",
    "version": 2
   },
   "file_extension": ".py",
   "mimetype": "text/x-python",
   "name": "python",
   "nbconvert_exporter": "python",
   "pygments_lexer": "ipython2",
   "version": "2.7.6"
  }
 },
 "nbformat": 4,
 "nbformat_minor": 5
}
