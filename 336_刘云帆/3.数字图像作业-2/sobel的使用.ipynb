{
 "cells": [
  {
   "cell_type": "markdown",
   "source": [
    "1、调用模块"
   ],
   "metadata": {
    "collapsed": false
   },
   "id": "faa0473b6af4b8f6"
  },
  {
   "cell_type": "code",
   "execution_count": 1,
   "id": "initial_id",
   "metadata": {
    "collapsed": true,
    "ExecuteTime": {
     "end_time": "2024-04-07T03:23:21.916852Z",
     "start_time": "2024-04-07T03:23:21.782580Z"
    }
   },
   "outputs": [],
   "source": [
    "import cv2"
   ]
  },
  {
   "cell_type": "markdown",
   "source": [
    "2、对原图片进行Sobel函数求导数\n",
    "\n",
    "Sobel函数求完导数后会有负值，还有会大于255的值。\n",
    "而原图像是uint8，即8位无符号数(范围在[0,255])，所以Sobel建立的图像位数不够，会有截断。\n",
    "因此要使用16位有符号的数据类型，即cv2.CV_16S。\n",
    "\n",
    "Unit8 是一种数据类型，在计算机编程中用于表示 8 位无符号整数。\n",
    "Unit8 类型的取值范围是 0 ~ 255，即使用 8 位二进制数表示的整数。\n",
    "在程序中，Unit8 可以用来存储数据、进行运算、进行类型转换等。"
   ],
   "metadata": {
    "collapsed": false
   },
   "id": "6bb6454d19332e06"
  },
  {
   "cell_type": "code",
   "outputs": [],
   "source": [
    "img = cv2.imread('lenna.png') #读取原图\n",
    "x = cv2.Sobel(img,cv2.CV_16S,1,0) #在w（x）方向上sobel\n",
    "y = cv2.Sobel(img,cv2.CV_16S,0,1) #在h（y）方向上sobel\n",
    "'''\n",
    "#将计算过后的灰度值转换回Unit8，即[0，255]\n",
    "在经过处理后，别忘了用convertScaleAbs()函数将其转回原来的uint8形式。\n",
    "否则将无法显示图像，而只是一副灰色的窗口。\n",
    "dst = cv2.convertScaleAbs(src[, dst[, alpha[, beta]]])  \n",
    "其中可选参数alpha是伸缩系数，beta是加到结果上的一个值。结果返回uint8类型的图片。\n",
    "'''\n",
    "abs_x = cv2.convertScaleAbs(x)\n",
    "abs_y = cv2.convertScaleAbs(y)\n",
    "'''\n",
    "由于Sobel算子是在两个方向计算的，最后还需要用cv2.addWeighted(...)函数将其组合起来\n",
    "。其函数原型为：\n",
    "dst = cv2.addWeighted(src1, alpha, src2, beta, gamma[, dst[, dtype]])  \n",
    "其中alpha是第一幅图片中元素的权重，beta是第二个的权重，\n",
    "gamma是加到最后结果上的一个值。\n",
    "'''\n",
    "combined = cv2.addWeighted(abs_x, 0.5, abs_y,0.5,0)"
   ],
   "metadata": {
    "collapsed": false,
    "ExecuteTime": {
     "end_time": "2024-04-07T03:23:21.933123Z",
     "start_time": "2024-04-07T03:23:21.918861Z"
    }
   },
   "id": "de787d34735455aa",
   "execution_count": 2
  },
  {
   "cell_type": "markdown",
   "source": [
    "3、打印效果图片"
   ],
   "metadata": {
    "collapsed": false
   },
   "id": "b7fb0333c0358391"
  },
  {
   "cell_type": "code",
   "outputs": [],
   "source": [
    "cv2.imshow(\"absX\", abs_x)\n",
    "cv2.imshow(\"absY\", abs_y)\n",
    " \n",
    "cv2.imshow(\"absXY\", combined)\n",
    " \n",
    "cv2.waitKey(0)\n",
    "cv2.destroyAllWindows()"
   ],
   "metadata": {
    "collapsed": false,
    "ExecuteTime": {
     "end_time": "2024-04-07T03:23:53.938699Z",
     "start_time": "2024-04-07T03:23:21.934132Z"
    }
   },
   "id": "b70ac4897e99cea9",
   "execution_count": 3
  }
 ],
 "metadata": {
  "kernelspec": {
   "display_name": "Python 3",
   "language": "python",
   "name": "python3"
  },
  "language_info": {
   "codemirror_mode": {
    "name": "ipython",
    "version": 2
   },
   "file_extension": ".py",
   "mimetype": "text/x-python",
   "name": "python",
   "nbconvert_exporter": "python",
   "pygments_lexer": "ipython2",
   "version": "2.7.6"
  }
 },
 "nbformat": 4,
 "nbformat_minor": 5
}
