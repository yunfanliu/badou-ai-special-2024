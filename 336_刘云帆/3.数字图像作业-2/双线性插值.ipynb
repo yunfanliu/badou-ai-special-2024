{
 "cells": [
  {
   "cell_type": "markdown",
   "source": [
    "1、导入需要用到的模块"
   ],
   "metadata": {
    "collapsed": false
   },
   "id": "90f64fa8aec086c3"
  },
  {
   "cell_type": "code",
   "execution_count": 40,
   "id": "initial_id",
   "metadata": {
    "collapsed": true,
    "ExecuteTime": {
     "end_time": "2024-04-04T08:29:11.328569Z",
     "start_time": "2024-04-04T08:29:11.324468Z"
    }
   },
   "outputs": [],
   "source": [
    "import cv2\n",
    "import numpy as np"
   ]
  },
  {
   "cell_type": "markdown",
   "source": [
    "2、定义一个双线性插值的函数"
   ],
   "metadata": {
    "collapsed": false
   },
   "id": "1edc55c7e1d8c0d9"
  },
  {
   "cell_type": "code",
   "outputs": [],
   "source": [
    "def BilinearInterpolation(img,out_size):\n",
    "    src_h,src_w,channel = img.shape\n",
    "    emptImage  = np.zeros((out_size[0],out_size[1],channel),dtype=np.uint8)  #创建一个空的目标图像\n",
    "    dst_h,dst_w,channel = emptImage.shape\n",
    "    sh,sw = float(src_h/dst_h),float(src_w/dst_w)\n",
    "    for i in range(channel):\n",
    "        for dst_x in range(dst_h):\n",
    "            for dst_y in range(dst_w):\n",
    "                #(src_x,src_y)当前遍历到的原图坐标点（x，y），经过加减运算乘法可能不是整数\n",
    "                #+0.5是坐标中心化\n",
    "                src_x, src_y= (dst_x + 0.5) * sh - 0.5,(dst_y + 0.5) * sw - 0.5\n",
    "                #将坐标点处理成整数，np.floor是为了防止取到负数\n",
    "                src_x0,src_y0 = int(np.floor(src_x)),int(np.floor(src_y))\n",
    "                #取最小值是为了防止超过原图长宽的边界。\n",
    "                src_x1,src_y1 = min(src_x0+1,src_h-1),min(src_y0+1,src_w-1)\n",
    "                #做x方向上的两次插值\n",
    "                tmp0 = (src_x1-src_x)*img[src_x0,src_y0,i] + (src_x-src_x0)*img[src_x1,src_y0,i]\n",
    "                tmp1 = (src_x1-src_x)*img[src_x0,src_y1,i] + (src_x-src_x0)*img[src_x1,src_y1,i]\n",
    "                #做y方向上的一次插值\n",
    "                emptImage [dst_x,dst_y,i] = int((src_y1-src_y)*tmp0 + (src_y-src_y0)*tmp1)\n",
    "            \n",
    "    return emptImage\n",
    "            \n",
    " \n",
    "     \n",
    "\n"
   ],
   "metadata": {
    "collapsed": false,
    "ExecuteTime": {
     "end_time": "2024-04-04T08:29:11.346305Z",
     "start_time": "2024-04-04T08:29:11.339335Z"
    }
   },
   "id": "e06a036060b931f5",
   "execution_count": 41
  },
  {
   "cell_type": "markdown",
   "source": [
    "3、调用函数，对原图进行插值"
   ],
   "metadata": {
    "collapsed": false
   },
   "id": "9aa832ad7d26bf2e"
  },
  {
   "cell_type": "code",
   "outputs": [
    {
     "data": {
      "text/plain": "-1"
     },
     "execution_count": 42,
     "metadata": {},
     "output_type": "execute_result"
    }
   ],
   "source": [
    "img = cv2.imread('lenna.png')\n",
    "dst_ime=BilinearInterpolation(img,(700,700))\n",
    "cv2.imshow('bilinear interp',dst_ime)\n",
    "cv2.waitKey()\n"
   ],
   "metadata": {
    "collapsed": false,
    "ExecuteTime": {
     "end_time": "2024-04-04T08:29:50.630440Z",
     "start_time": "2024-04-04T08:29:11.348398Z"
    }
   },
   "id": "aa859c2e88a1df08",
   "execution_count": 42
  }
 ],
 "metadata": {
  "kernelspec": {
   "display_name": "Python 3",
   "language": "python",
   "name": "python3"
  },
  "language_info": {
   "codemirror_mode": {
    "name": "ipython",
    "version": 2
   },
   "file_extension": ".py",
   "mimetype": "text/x-python",
   "name": "python",
   "nbconvert_exporter": "python",
   "pygments_lexer": "ipython2",
   "version": "2.7.6"
  }
 },
 "nbformat": 4,
 "nbformat_minor": 5
}
