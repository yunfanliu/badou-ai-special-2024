{
 "cells": [
  {
   "cell_type": "code",
   "execution_count": 1,
   "id": "initial_id",
   "metadata": {
    "collapsed": true,
    "ExecuteTime": {
     "end_time": "2024-07-10T12:22:59.719642Z",
     "start_time": "2024-07-10T12:22:54.002842Z"
    }
   },
   "outputs": [
    {
     "name": "stdout",
     "output_type": "stream",
     "text": [
      "Downloading data from https://storage.googleapis.com/tensorflow/tf-keras-datasets/mnist.npz\n",
      "11493376/11490434 [==============================] - 2s 0us/step\n",
      "train_images.shape =  (60000, 28, 28)\n",
      "tran_labels =  [5 0 4 ... 5 6 8]\n",
      "test_images.shape =  (10000, 28, 28)\n",
      "test_labels [7 2 1 ... 4 5 6]\n"
     ]
    },
    {
     "data": {
      "text/plain": "'\\n1.train_images.shape打印结果表明，train_images是一个含有60000个元素的数组.\\n数组中的元素是一个二维数组，二维数组的行和列都是28.\\n也就是说，一个数字图片的大小是28*28.\\n2.train_lables打印结果表明，第一张手写数字图片的内容是数字5，第二种图片是数字0，以此类推.\\n3.test_images.shape的打印结果表示，用于检验训练效果的图片有10000张。\\n4.test_labels输出结果表明，用于检测的第一张图片内容是数字7，第二张是数字2，依次类推。\\n'"
     },
     "execution_count": 1,
     "metadata": {},
     "output_type": "execute_result"
    }
   ],
   "source": [
    "[1]\n",
    "'''\n",
    "将训练数据和检测数据加载到内存中(第一次运行需要下载数据，会比较慢):\n",
    "train_images是用于训练系统的手写数字图片;\n",
    "train_labels是用于标注图片的信息;\n",
    "test_images是用于检测系统训练效果的图片；\n",
    "test_labels是test_images图片对应的数字标签。\n",
    "'''\n",
    "from tensorflow.keras.datasets import mnist\n",
    "(train_images, train_labels), (test_images, test_labels) = mnist.load_data()\n",
    "print('train_images.shape = ',train_images.shape)\n",
    "print('tran_labels = ', train_labels)\n",
    "print('test_images.shape = ', test_images.shape)\n",
    "print('test_labels', test_labels)\n",
    "'''\n",
    "1.train_images.shape打印结果表明，train_images是一个含有60000个元素的数组.\n",
    "数组中的元素是一个二维数组，二维数组的行和列都是28.\n",
    "也就是说，一个数字图片的大小是28*28.\n",
    "2.train_lables打印结果表明，第一张手写数字图片的内容是数字5，第二种图片是数字0，以此类推.\n",
    "3.test_images.shape的打印结果表示，用于检验训练效果的图片有10000张。\n",
    "4.test_labels输出结果表明，用于检测的第一张图片内容是数字7，第二张是数字2，依次类推。\n",
    "'''\n",
    "\n"
   ]
  },
  {
   "cell_type": "code",
   "outputs": [
    {
     "data": {
      "text/plain": "<Figure size 640x480 with 1 Axes>",
      "image/png": "[encoded data removed]"
     },
     "metadata": {},
     "output_type": "display_data"
    }
   ],
   "source": [
    "[2]\n",
    "'''\n",
    "把用于测试的第一张图片打印出来看看\n",
    "'''\n",
    "digit = test_images[0]\n",
    "import matplotlib.pyplot as plt\n",
    "plt.imshow(digit, cmap=plt.cm.binary)\n",
    "plt.show()\n",
    "\n"
   ],
   "metadata": {
    "collapsed": false,
    "ExecuteTime": {
     "end_time": "2024-07-10T12:23:00.488118Z",
     "start_time": "2024-07-10T12:22:59.721735Z"
    }
   },
   "id": "df1b5511a55181c6",
   "execution_count": 2
  },
  {
   "cell_type": "code",
   "outputs": [
    {
     "name": "stdout",
     "output_type": "stream",
     "text": [
      "WARNING:tensorflow:From C:\\Users\\27569\\.conda\\envs\\Deepenv\\lib\\site-packages\\tensorflow_core\\python\\ops\\resource_variable_ops.py:1630: calling BaseResourceVariable.__init__ (from tensorflow.python.ops.resource_variable_ops) with constraint is deprecated and will be removed in a future version.\n",
      "Instructions for updating:\n",
      "If using Keras pass *_constraint arguments to layers.\n"
     ]
    }
   ],
   "source": [
    "[3]\n",
    "'''\n",
    "使用tensorflow.Keras搭建一个有效识别图案的神经网络，\n",
    "1.layers:表示神经网络中的一个数据处理层。(dense:全连接层)\n",
    "2.models.Sequential():表示把每一个数据处理层串联起来.\n",
    "3.layers.Dense(…):构造一个数据处理层。\n",
    "4.input_shape(28*28,):表示当前处理层接收的数据格式必须是长和宽都是28的二维数组，\n",
    "后面的“,“表示数组里面的每一个元素到底包含多少个数字都没有关系.\n",
    "'''\n",
    "from tensorflow.keras import models\n",
    "from tensorflow.keras import layers\n",
    "\n",
    "network = models.Sequential()\n",
    "network.add(layers.Dense(512, activation='relu', input_shape=(28*28,)))\n",
    "network.add(layers.Dense(10, activation='softmax'))\n",
    "\n",
    "network.compile(optimizer='rmsprop', loss='categorical_crossentropy',\n",
    "               metrics=['accuracy'])\n",
    "      \n"
   ],
   "metadata": {
    "collapsed": false,
    "ExecuteTime": {
     "end_time": "2024-07-10T12:23:00.630011Z",
     "start_time": "2024-07-10T12:23:00.490226Z"
    }
   },
   "id": "a0e7c18968343e9b",
   "execution_count": 3
  },
  {
   "cell_type": "code",
   "outputs": [
    {
     "name": "stdout",
     "output_type": "stream",
     "text": [
      "before change: 7\n",
      "after change:  [0. 0. 0. 0. 0. 0. 0. 1. 0. 0.]\n"
     ]
    }
   ],
   "source": [
    "[4]               \n",
    "'''\n",
    "在把数据输入到网络模型之前，把数据做归一化处理:\n",
    "1.reshape(60000, 28*28）:train_images数组原来含有60000个元素，每个元素是一个28行，28列的二维数组，\n",
    "现在把每个二维数组转变为一个含有28*28个元素的一维数组.\n",
    "2.由于数字图案是一个灰度图，图片中每个像素点值的大小范围在0到255之间.\n",
    "3.train_images.astype(“float32”)/255 把每个像素点的值从范围0-255转变为范围在0-1之间的浮点值。\n",
    "'''\n",
    "train_images = train_images.reshape((60000, 28*28))\n",
    "train_images = train_images.astype('float32') / 255\n",
    "\n",
    "test_images = test_images.reshape((10000, 28*28))\n",
    "test_images = test_images.astype('float32') / 255\n",
    "\n",
    "'''\n",
    "把图片对应的标记也做一个更改：\n",
    "目前所有图片的数字图案对应的是0到9。\n",
    "例如test_images[0]对应的是数字7的手写图案，那么其对应的标记test_labels[0]的值就是7。\n",
    "我们需要把数值7变成一个含有10个元素的数组，然后在第8个元素设置为1，其他元素设置为0。\n",
    "例如test_lables[0] 的值由7转变为数组[0,0,0,0,0,0,0,1,0,0] ---one hot\n",
    "'''\n",
    "from tensorflow.keras.utils import to_categorical\n",
    "print(\"before change:\" ,test_labels[0])\n",
    "train_labels = to_categorical(train_labels)\n",
    "test_labels = to_categorical(test_labels)\n",
    "print(\"after change: \", test_labels[0])\n",
    "\n"
   ],
   "metadata": {
    "collapsed": false,
    "ExecuteTime": {
     "end_time": "2024-07-10T12:23:00.801239Z",
     "start_time": "2024-07-10T12:23:00.633040Z"
    }
   },
   "id": "a24548045f29cbfe",
   "execution_count": 4
  },
  {
   "cell_type": "code",
   "outputs": [
    {
     "name": "stdout",
     "output_type": "stream",
     "text": [
      "Train on 60000 samples\n",
      "Epoch 1/5\n",
      "60000/60000 [==============================] - 3s 48us/sample - loss: 0.2562 - acc: 0.9259\n",
      "Epoch 2/5\n",
      "60000/60000 [==============================] - 3s 45us/sample - loss: 0.1027 - acc: 0.9700\n",
      "Epoch 3/5\n",
      "60000/60000 [==============================] - 3s 54us/sample - loss: 0.0681 - acc: 0.9793\n",
      "Epoch 4/5\n",
      "60000/60000 [==============================] - 3s 42us/sample - loss: 0.0498 - acc: 0.9851\n",
      "Epoch 5/5\n",
      "60000/60000 [==============================] - 2s 41us/sample - loss: 0.0373 - acc: 0.9887\n"
     ]
    },
    {
     "data": {
      "text/plain": "<tensorflow.python.keras.callbacks.History at 0x1a41c97b7c8>"
     },
     "execution_count": 5,
     "metadata": {},
     "output_type": "execute_result"
    }
   ],
   "source": [
    "[5]\n",
    "'''\n",
    "把数据输入网络进行训练：\n",
    "train_images：用于训练的手写数字图片；\n",
    "train_labels：对应的是图片的标记；\n",
    "batch_size：每次网络从输入的图片数组中随机选取128个作为一组进行计算。\n",
    "epochs:每次计算的循环是五次\n",
    "'''\n",
    "network.fit(train_images, train_labels, epochs=5, batch_size = 128)\n",
    "\n",
    "\n"
   ],
   "metadata": {
    "collapsed": false,
    "ExecuteTime": {
     "end_time": "2024-07-10T12:23:14.856458Z",
     "start_time": "2024-07-10T12:23:00.803243Z"
    }
   },
   "id": "1ff578311351404b",
   "execution_count": 5
  },
  {
   "cell_type": "code",
   "outputs": [
    {
     "name": "stdout",
     "output_type": "stream",
     "text": [
      "10000/10000 [==============================] - 0s 23us/sample - loss: 0.0674 - acc: 0.9806\n",
      "0.06737897322392092\n",
      "test_acc 0.9806\n"
     ]
    }
   ],
   "source": [
    "[6]\n",
    "'''\n",
    "测试数据输入，检验网络学习后的图片识别效果.\n",
    "识别效果与硬件有关（CPU/GPU）.\n",
    "'''\n",
    "test_loss, test_acc = network.evaluate(test_images, test_labels, verbose=1)\n",
    "print(test_loss) \n",
    "print('test_acc', test_acc)\n",
    "\n"
   ],
   "metadata": {
    "collapsed": false,
    "ExecuteTime": {
     "end_time": "2024-07-10T12:23:15.107019Z",
     "start_time": "2024-07-10T12:23:14.857461Z"
    }
   },
   "id": "fd33750b61551e12",
   "execution_count": 6
  },
  {
   "cell_type": "code",
   "outputs": [
    {
     "data": {
      "text/plain": "<Figure size 640x480 with 1 Axes>",
      "image/png": "[encoded data removed]"
     },
     "metadata": {},
     "output_type": "display_data"
    },
    {
     "name": "stdout",
     "output_type": "stream",
     "text": [
      "the number for the picture is :  2\n"
     ]
    }
   ],
   "source": [
    "[7]\n",
    "'''\n",
    "输入一张手写数字图片到网络中，看看它的识别效果\n",
    "'''\n",
    "(train_images, train_labels), (test_images, test_labels) = mnist.load_data()\n",
    "digit = test_images[1]\n",
    "plt.imshow(digit, cmap=plt.cm.binary)\n",
    "plt.show()\n",
    "test_images = test_images.reshape((10000, 28*28))\n",
    "res = network.predict(test_images)\n",
    "\n",
    "for i in range(res[1].shape[0]):\n",
    "    if (res[1][i] == 1):\n",
    "        print(\"the number for the picture is : \", i)\n",
    "        break\n"
   ],
   "metadata": {
    "collapsed": false,
    "ExecuteTime": {
     "end_time": "2024-07-10T12:23:15.607485Z",
     "start_time": "2024-07-10T12:23:15.109023Z"
    }
   },
   "id": "660ca451debdb54d",
   "execution_count": 7
  }
 ],
 "metadata": {
  "kernelspec": {
   "display_name": "Python 3",
   "language": "python",
   "name": "python3"
  },
  "language_info": {
   "codemirror_mode": {
    "name": "ipython",
    "version": 2
   },
   "file_extension": ".py",
   "mimetype": "text/x-python",
   "name": "python",
   "nbconvert_exporter": "python",
   "pygments_lexer": "ipython2",
   "version": "2.7.6"
  }
 },
 "nbformat": 4,
 "nbformat_minor": 5
}
