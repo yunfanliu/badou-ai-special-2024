{
 "cells": [
  {
   "cell_type": "markdown",
   "source": [
    "目的：调用手写神经网络，进行训练和验证"
   ],
   "metadata": {
    "collapsed": false
   },
   "id": "a3534752fc40f3c3"
  },
  {
   "cell_type": "code",
   "execution_count": null,
   "id": "initial_id",
   "metadata": {
    "collapsed": true
   },
   "outputs": [],
   "source": [
    "import numpy\n",
    "import matplotlib.pyplot as plt\n",
    "from NeuralNetWork import NeuralNetWork\n",
    "\n",
    "[1]\n",
    "#open函数里的路径根据数据存储的路径来设定\n",
    "data_file = open(\"dataset/mnist_test.csv\")\n",
    "data_list = data_file.readlines()\n",
    "data_file.close()\n",
    "print(len(data_list))\n",
    "print(data_list[0])\n",
    "\n",
    "#把数据依靠','区分，并分别读入\n",
    "all_values = data_list[0].split(',')\n",
    "#第一个值对应的是图片的表示的数字，所以我们读取图片数据时要去掉第一个数值\n",
    "image_array = numpy.asfarray(all_values[1:]).reshape((28, 28))\n",
    "\n",
    "#最外层有10个输出节点\n",
    "onodes = 10\n",
    "targets = numpy.zeros(onodes) + 0.01\n",
    "targets[int(all_values[0])] = 0.99\n",
    "print(targets)  #targets第8个元素的值是0.99，这表示图片对应的数字是7(数组是从编号0开始的).\n",
    "\n"
   ]
  },
  {
   "cell_type": "code",
   "outputs": [],
   "source": [
    "[2]\n",
    "'''\n",
    "根据上述做法，我们就能把输入图片给对应的正确数字建立联系，这种联系就可以用于输入到网络中，进行训练。\n",
    "由于一张图片总共有28*28 = 784个数值，因此我们需要让网络的输入层具备784个输入节点。\n",
    "这里需要注意的是，中间层的节点我们选择了100个神经元，这个选择是经验值。\n",
    "中间层的节点数没有专门的办法去规定，其数量会根据不同的问题而变化。\n",
    "确定中间层神经元节点数最好的办法是实验，不停的选取各种数量，看看那种数量能使得网络的表现最好。\n",
    "'''\n",
    "#初始化网络\n",
    "input_nodes = 784\n",
    "hidden_nodes = 100\n",
    "output_nodes = 10\n",
    "learning_rate = 0.3\n",
    "n = NeuralNetWork(input_nodes, hidden_nodes, output_nodes, learning_rate)\n",
    "#读入训练数据\n",
    "#open函数里的路径根据数据存储的路径来设定\n",
    "training_data_file = open(\"dataset/mnist_train.csv\")\n",
    "trainning_data_list = training_data_file.readlines()\n",
    "training_data_file.close()\n",
    "#把数据依靠','区分，并分别读入\n",
    "for record in trainning_data_list:\n",
    "    all_values = record.split(',')\n",
    "    inputs = (numpy.asfarray(all_values[1:]))/255.0 * 0.99 + 0.01\n",
    "    #设置图片与数值的对应关系\n",
    "    targets = numpy.zeros(output_nodes) + 0.01\n",
    "    targets[int(all_values[0])] = 0.99\n",
    "    n.train(inputs, targets)\n",
    "    \n"
   ],
   "metadata": {
    "collapsed": false
   },
   "id": "f72af5aff3d58f3f"
  },
  {
   "cell_type": "code",
   "outputs": [],
   "source": [
    "[3]\n",
    "'''\n",
    "最后我们把所有测试图片都输入网络，看看它检测的效果如何\n",
    "'''\n",
    "scores = []\n",
    "for record in trainning_data_list:\n",
    "    all_values = record.split(',')\n",
    "    correct_number = int(all_values[0])\n",
    "    print(\"该图片对应的数字为:\",correct_number)\n",
    "    #预处理数字图片\n",
    "    inputs = (numpy.asfarray(all_values[1:])) / 255.0 * 0.99 + 0.01\n",
    "    #让网络判断图片对应的数字,推理\n",
    "    outputs = n.query(inputs)\n",
    "    #找到数值最大的神经元对应的 编号\n",
    "    label = numpy.argmax(outputs)  \n",
    "    print(\"output reslut is : \", label)\n",
    "    #print(\"网络认为图片的数字是：\", label)\n",
    "    if label == correct_number:\n",
    "        scores.append(1)\n",
    "    else:\n",
    "        scores.append(0)\n",
    "print(scores)\n",
    "\n",
    "#计算图片判断的成功率\n",
    "scores_array = numpy.asarray(scores)\n",
    "print(\"perfermance = \", scores_array.sum() / scores_array.size)\n",
    "\n"
   ],
   "metadata": {
    "collapsed": false
   },
   "id": "4a8a5fd722d53c8d"
  },
  {
   "cell_type": "code",
   "outputs": [],
   "source": [
    "[4]\n",
    "'''\n",
    "在原来网络训练的基础上再加上一层外循环\n",
    "但是对于普通电脑而言执行的时间会很长。\n",
    "epochs 的数值越大，网络被训练的就越精准，但如果超过一个阈值，网络就会引发一个过拟合的问题.\n",
    "'''\n",
    "#加入epocs,设定网络的训练循环次数\n",
    "epochs = 10\n",
    "\n",
    "for e in range(epochs):\n",
    "    #把数据依靠','区分，并分别读入\n",
    "    for record in trainning_data_list:\n",
    "        all_values = record.split(',')\n",
    "        inputs = (numpy.asfarray(all_values[1:]))/255.0 * 0.99 + 0.01\n",
    "        #设置图片与数值的对应关系\n",
    "        targets = numpy.zeros(output_nodes) + 0.01\n",
    "        targets[int(all_values[0])] = 0.99\n",
    "        n.train(inputs, targets)\n"
   ],
   "metadata": {
    "collapsed": false
   },
   "id": "4d236c90bef56c58"
  }
 ],
 "metadata": {
  "kernelspec": {
   "display_name": "Python 3",
   "language": "python",
   "name": "python3"
  },
  "language_info": {
   "codemirror_mode": {
    "name": "ipython",
    "version": 2
   },
   "file_extension": ".py",
   "mimetype": "text/x-python",
   "name": "python",
   "nbconvert_exporter": "python",
   "pygments_lexer": "ipython2",
   "version": "2.7.6"
  }
 },
 "nbformat": 4,
 "nbformat_minor": 5
}
