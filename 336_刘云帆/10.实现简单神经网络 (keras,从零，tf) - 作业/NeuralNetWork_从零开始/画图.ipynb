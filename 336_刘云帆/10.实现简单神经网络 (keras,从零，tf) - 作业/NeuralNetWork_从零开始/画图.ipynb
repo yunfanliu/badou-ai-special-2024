{
 "cells": [
  {
   "cell_type": "code",
   "execution_count": null,
   "id": "initial_id",
   "metadata": {
    "collapsed": true
   },
   "outputs": [],
   "source": [
    "import numpy\n",
    "import matplotlib.pyplot as plt\n",
    "#%matplotlib inline\n",
    "\n",
    "#open函数里的路径根据数据存储的路径来设定\n",
    "data_file = open(\"dataset/mnist_test.csv\")\n",
    "data_list = data_file.readlines()\n",
    "data_file.close()\n",
    "print(len(data_list))\n",
    "print(data_list[0])\n",
    "\n",
    "#把数据依靠','区分，并分别读入\n",
    "all_values = data_list[0].split(',')\n",
    "#第一个值对应的是图片的表示的数字，所以我们读取图片数据时要去掉第一个数值\n",
    "image_array = numpy.asfarray(all_values[1:]).reshape((28, 28))\n",
    "plt.imshow(image_array, cmap='Greys', interpolation='None')\n",
    "plt.show()\n",
    "\n",
    "#数据预处理（归一化）\n",
    "scaled_input = image_array / 255.0 * 0.99 + 0.01\n",
    "print(scaled_input)\n",
    "\n"
   ]
  }
 ],
 "metadata": {
  "kernelspec": {
   "display_name": "Python 3",
   "language": "python",
   "name": "python3"
  },
  "language_info": {
   "codemirror_mode": {
    "name": "ipython",
    "version": 2
   },
   "file_extension": ".py",
   "mimetype": "text/x-python",
   "name": "python",
   "nbconvert_exporter": "python",
   "pygments_lexer": "ipython2",
   "version": "2.7.6"
  }
 },
 "nbformat": 4,
 "nbformat_minor": 5
}
