{
 "cells": [
  {
   "cell_type": "code",
   "execution_count": 5,
   "id": "initial_id",
   "metadata": {
    "collapsed": true,
    "ExecuteTime": {
     "end_time": "2024-07-10T13:25:54.902660Z",
     "start_time": "2024-07-10T13:25:54.887598Z"
    }
   },
   "outputs": [],
   "source": [
    "[1]\n",
    "'''\n",
    "训练过程分两步：\n",
    "第一步是计算输入训练数据，给出网络的计算结果，这点跟我们前面实现的query()功能很像。\n",
    "第二步是将计算结果与正确结果相比对，获取误差，采用误差反向传播法更新网络里的每条链路权重。\n",
    "\n",
    "我们先用代码完成第一步.\n",
    "\n",
    "inputs_list:输入的训练数据;\n",
    "targets_list:训练数据对应的正确结果。\n",
    "'''\n",
    "import numpy\n",
    "def  train(self, inputs_list, targets_list):\n",
    "        #根据输入的训练数据更新节点链路权重\n",
    "        '''\n",
    "        把inputs_list, targets_list转换成numpy支持的二维矩阵\n",
    "        .T表示做矩阵的转置\n",
    "        '''\n",
    "        inputs = numpy.array(inputs_list, ndmin=2).T\n",
    "        targets = numpy.array(targets_list, nmin=2).T\n",
    "        #计算信号经过输入层后产生的信号量\n",
    "        hidden_inputs = numpy.dot(self.wih, inputs)\n",
    "        #中间层神经元对输入的信号做激活函数后得到输出信号\n",
    "        hidden_outputs = self.activation_function(hidden_inputs)\n",
    "        #输出层接收来自中间层的信号量\n",
    "        final_inputs = numpy.dot(self.who, hidden_outputs)\n",
    "        #输出层对信号量进行激活函数后得到最终输出信号\n",
    "        final_outputs = self.activation_function(final_inputs)\n",
    "\n",
    "\n"
   ]
  },
  {
   "cell_type": "code",
   "outputs": [],
   "source": [
    "[2]\n",
    "'''\n",
    "上面代码根据输入数据计算出结果后，我们先要获得计算误差.\n",
    "误差就是用正确结果减去网络的计算结果。\n",
    "在代码中对应的就是(targets - final_outputs).\n",
    "'''\n",
    "def  train(self, inputs_list, targets_list):\n",
    "        #根据输入的训练数据更新节点链路权重\n",
    "        '''\n",
    "        把inputs_list, targets_list转换成numpy支持的二维矩阵\n",
    "        .T表示做矩阵的转置\n",
    "        '''\n",
    "        inputs = numpy.array(inputs_list, ndmin=2).T\n",
    "        targets = numpy.array(targets_list, nmin=2).T\n",
    "        #计算信号经过输入层后产生的信号量\n",
    "        hidden_inputs = numpy.dot(self.wih, inputs)\n",
    "        #中间层神经元对输入的信号做激活函数后得到输出信号\n",
    "        hidden_outputs = self.activation_function(hidden_inputs)\n",
    "        #输出层接收来自中间层的信号量\n",
    "        final_inputs = numpy.dot(self.who, hidden_outputs)\n",
    "        #输出层对信号量进行激活函数后得到最终输出信号\n",
    "        final_outputs = self.activation_function(final_inputs)\n",
    "\n",
    "        #计算误差\n",
    "        output_errors = targets - final_outputs\n",
    "        hidden_errors = numpy.dot(self.who.T, output_errors*final_outputs*(1-final_outputs))\n",
    "        #根据误差计算链路权重的更新量，然后把更新加到原来链路权重上\n",
    "        self.who += self.lr * numpy.dot((output_errors * final_outputs *(1 - final_outputs)),\n",
    "                                       numpy.transpose(hidden_outputs))\n",
    "        self.wih += self.lr * numpy.dot((hidden_errors * hidden_outputs * (1 - hidden_outputs)),\n",
    "                                       numpy.transpose(inputs))\n",
    "        pass\n",
    "\n"
   ],
   "metadata": {
    "collapsed": false,
    "ExecuteTime": {
     "end_time": "2024-07-10T13:25:54.918186Z",
     "start_time": "2024-07-10T13:25:54.904992Z"
    }
   },
   "id": "3970db1533decc0d",
   "execution_count": 6
  },
  {
   "cell_type": "code",
   "outputs": [
    {
     "data": {
      "text/plain": "'\\n这里我们可以利用画图.py将输入绘制出来\\n'"
     },
     "execution_count": 7,
     "metadata": {},
     "output_type": "execute_result"
    }
   ],
   "source": [
    "[3]\n",
    "'''\n",
    "使用实际数据来训练我们的神经网络\n",
    "'''\n",
    "#open函数里的路径根据数据存储的路径来设定\n",
    "data_file = open(\"dataset/mnist_test.csv\")\n",
    "data_list = data_file.readlines()\n",
    "data_file.close()\n",
    "len(data_list)\n",
    "data_list[0]\n",
    "'''\n",
    "这里我们可以利用画图.py将输入绘制出来\n",
    "'''\n",
    "\n"
   ],
   "metadata": {
    "collapsed": false,
    "ExecuteTime": {
     "end_time": "2024-07-10T13:25:54.934448Z",
     "start_time": "2024-07-10T13:25:54.919695Z"
    }
   },
   "id": "de481c4c3eb14a36",
   "execution_count": 7
  },
  {
   "cell_type": "code",
   "outputs": [],
   "source": [
    "[4]\n",
    "'''\n",
    "从绘制的结果看，数据代表的确实是一个黑白图片的手写数字。\n",
    "数据读取完毕后，我们再对数据格式做些调整，以便输入到神经网络中进行分析。\n",
    "我们需要做的是将数据“归一化”，也就是把所有数值全部转换到0.01到1.0之间。\n",
    "由于表示图片的二维数组中，每个数大小不超过255，由此我们只要把所有数组除以255，就能让数据全部落入到0和1之间。\n",
    "有些数值很小，除以255后会变为0，这样会导致链路权重更新出问题。\n",
    "所以我们需要把除以255后的结果先乘以0.99，然后再加上0.01，这样所有数据就处于0.01到1之间。\n",
    "'''\n",
    "#把数据依靠','区分，并分别读入\n",
    "all_values = data_list[0].split(',')\n",
    "#第一个值对应的是图片的表示的数字，所以我们读取图片数据时要去掉第一个数值\n",
    "image_array = numpy.asfarray(all_values[1:]).reshape((28, 28))\n",
    "\n",
    "scaled_input = image_array / 255.0 * 0.99 + 0.01"
   ],
   "metadata": {
    "collapsed": false,
    "ExecuteTime": {
     "end_time": "2024-07-10T13:25:54.950417Z",
     "start_time": "2024-07-10T13:25:54.936989Z"
    }
   },
   "id": "884f106be47c14ef",
   "execution_count": 8
  }
 ],
 "metadata": {
  "kernelspec": {
   "display_name": "Python 3",
   "language": "python",
   "name": "python3"
  },
  "language_info": {
   "codemirror_mode": {
    "name": "ipython",
    "version": 2
   },
   "file_extension": ".py",
   "mimetype": "text/x-python",
   "name": "python",
   "nbconvert_exporter": "python",
   "pygments_lexer": "ipython2",
   "version": "2.7.6"
  }
 },
 "nbformat": 4,
 "nbformat_minor": 5
}
