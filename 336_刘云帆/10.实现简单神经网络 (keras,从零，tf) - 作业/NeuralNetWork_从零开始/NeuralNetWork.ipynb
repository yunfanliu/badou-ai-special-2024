{
 "cells": [
  {
   "cell_type": "markdown",
   "source": [
    "目的：从零开始实现神经网络"
   ],
   "metadata": {
    "collapsed": false
   },
   "id": "d161449da1f475b4"
  },
  {
   "cell_type": "markdown",
   "source": [
    "1. 构建神经网络"
   ],
   "metadata": {
    "collapsed": false
   },
   "id": "80d286c53d3bf1d1"
  },
  {
   "cell_type": "code",
   "execution_count": 1,
   "id": "initial_id",
   "metadata": {
    "collapsed": true,
    "ExecuteTime": {
     "end_time": "2024-07-10T12:35:43.639748Z",
     "start_time": "2024-07-10T12:35:43.446771Z"
    }
   },
   "outputs": [],
   "source": [
    "import numpy\n",
    "import scipy.special\n",
    "\n",
    "class  NeuralNetWork:\n",
    "    def __init__(self, inputnodes, hiddennodes, outputnodes, learningrate):\n",
    "        #初始化网络，设置输入层，中间层，和输出层节点数\n",
    "        self.inodes = inputnodes\n",
    "        self.hnodes = hiddennodes\n",
    "        self.onodes = outputnodes\n",
    "\n",
    "        #设置学习率\n",
    "        self.lr = learningrate\n",
    "        \n",
    "        '''\n",
    "        初始化权重矩阵，我们有两个权重矩阵，一个是wih表示输入层和中间层节点间链路权重形成的矩阵\n",
    "        一个是who,表示中间层和输出层间链路权重形成的矩阵\n",
    "        '''\n",
    "        #self.wih = numpy.random.rand(self.hnodes, self.inodes) - 0.5\n",
    "        #self.who = numpy.random.rand(self.onodes, self.hnodes) - 0.5\n",
    "        \n",
    "        self.wih = (numpy.random.normal(0.0, pow(self.hnodes,-0.5), (self.hnodes,self.inodes) )  )\n",
    "        self.who = (numpy.random.normal(0.0, pow(self.onodes,-0.5), (self.onodes,self.hnodes) )  )\n",
    "\n",
    "        '''\n",
    "        每个节点执行激活函数，得到的结果将作为信号输出到下一层，我们用sigmoid作为激活函数\n",
    "        '''\n",
    "        self.activation_function = lambda x:scipy.special.expit(x)\n",
    "        \n",
    "        pass\n",
    "        \n",
    "    def  train(self,inputs_list, targets_list):\n",
    "        #根据输入的训练数据更新节点链路权重\n",
    "        '''\n",
    "        把inputs_list, targets_list转换成numpy支持的二维矩阵\n",
    "        .T表示做矩阵的转置\n",
    "        '''\n",
    "        inputs = numpy.array(inputs_list, ndmin=2).T\n",
    "        targets = numpy.array(targets_list, ndmin=2).T\n",
    "        #计算信号经过输入层后产生的信号量\n",
    "        hidden_inputs = numpy.dot(self.wih, inputs)\n",
    "        #中间层神经元对输入的信号做激活函数后得到输出信号\n",
    "        hidden_outputs = self.activation_function(hidden_inputs)\n",
    "        #输出层接收来自中间层的信号量\n",
    "        final_inputs = numpy.dot(self.who, hidden_outputs)\n",
    "        #输出层对信号量进行激活函数后得到最终输出信号\n",
    "        final_outputs = self.activation_function(final_inputs)\n",
    "\n",
    "        #计算误差\n",
    "        output_errors = targets - final_outputs\n",
    "        hidden_errors = numpy.dot(self.who.T, output_errors*final_outputs*(1-final_outputs))\n",
    "        #根据误差计算链路权重的更新量，然后把更新加到原来链路权重上\n",
    "        self.who += self.lr * numpy.dot((output_errors * final_outputs *(1 - final_outputs)),\n",
    "                                       numpy.transpose(hidden_outputs))\n",
    "        self.wih += self.lr * numpy.dot((hidden_errors * hidden_outputs * (1 - hidden_outputs)),\n",
    "                                       numpy.transpose(inputs))\n",
    "                                       \n",
    "        pass\n",
    "        \n",
    "    def  query(self,inputs):\n",
    "        #根据输入数据计算并输出答案\n",
    "        #计算中间层从输入层接收到的信号量\n",
    "        hidden_inputs = numpy.dot(self.wih, inputs)\n",
    "        #计算中间层经过激活函数后形成的输出信号量\n",
    "        hidden_outputs = self.activation_function(hidden_inputs)\n",
    "        #计算最外层接收到的信号量\n",
    "        final_inputs = numpy.dot(self.who, hidden_outputs)\n",
    "        #计算最外层神经元经过激活函数后输出的信号量\n",
    "        final_outputs = self.activation_function(final_inputs)\n",
    "        print(final_outputs)\n",
    "        return final_outputs\n",
    "        \n",
    "\n"
   ]
  },
  {
   "cell_type": "markdown",
   "source": [
    "2. 初始化神经训练"
   ],
   "metadata": {
    "collapsed": false
   },
   "id": "8b7d031c17d12b77"
  },
  {
   "cell_type": "code",
   "outputs": [],
   "source": [
    "#初始化网络\n",
    "'''\n",
    "由于一张图片总共有28*28 = 784个数值，因此我们需要让网络的输入层具备784个输入节点\n",
    "'''\n",
    "input_nodes = 784\n",
    "hidden_nodes = 200\n",
    "output_nodes = 10\n",
    "learning_rate = 0.1\n",
    "n = NeuralNetWork(input_nodes, hidden_nodes, output_nodes, learning_rate)\n",
    "\n",
    "#读入训练数据\n",
    "#open函数里的路径根据数据存储的路径来设定\n",
    "training_data_file = open(\"dataset/mnist_train.csv\",'r')\n",
    "training_data_list = training_data_file.readlines()\n",
    "training_data_file.close()\n",
    "\n"
   ],
   "metadata": {
    "collapsed": false,
    "ExecuteTime": {
     "end_time": "2024-07-10T12:35:43.655377Z",
     "start_time": "2024-07-10T12:35:43.642034Z"
    }
   },
   "id": "60ecb872df31614b",
   "execution_count": 2
  },
  {
   "cell_type": "markdown",
   "source": [
    "3. 对载入的数据 训练"
   ],
   "metadata": {
    "collapsed": false
   },
   "id": "df507f2f53942b68"
  },
  {
   "cell_type": "code",
   "outputs": [
    {
     "name": "stdout",
     "output_type": "stream",
     "text": [
      "该图片对应的数字为: 7\n",
      "[0.04056058 0.02643474 0.03693954 0.0559501  0.06216805 0.05021966\n",
      " 0.01188072 0.83764053 0.073835   0.08078862]\n",
      "网络认为图片的数字是： 7\n",
      "该图片对应的数字为: 2\n",
      "[0.50488232 0.10079274 0.15451794 0.08184151 0.00698519 0.09309153\n",
      " 0.15390401 0.02863869 0.05063954 0.00286629]\n",
      "网络认为图片的数字是： 0\n",
      "该图片对应的数字为: 1\n",
      "[0.01091583 0.91732748 0.03825513 0.03739664 0.07148684 0.11142571\n",
      " 0.06797864 0.07234837 0.03506551 0.04013154]\n",
      "网络认为图片的数字是： 1\n",
      "该图片对应的数字为: 0\n",
      "[0.84531074 0.00468172 0.0584802  0.00337447 0.00745729 0.02198712\n",
      " 0.15293549 0.13988383 0.01725852 0.00202996]\n",
      "网络认为图片的数字是： 0\n",
      "该图片对应的数字为: 4\n",
      "[0.03797478 0.00805098 0.09879522 0.01605585 0.79064303 0.03202563\n",
      " 0.02796114 0.22783745 0.04225963 0.01599114]\n",
      "网络认为图片的数字是： 4\n",
      "该图片对应的数字为: 1\n",
      "[0.01195349 0.92480493 0.04008127 0.0423618  0.05450664 0.09121262\n",
      " 0.02571764 0.06779858 0.0376055  0.03342162]\n",
      "网络认为图片的数字是： 1\n",
      "该图片对应的数字为: 4\n",
      "[0.01360415 0.00584112 0.04973838 0.05581008 0.27763727 0.1055306\n",
      " 0.02654282 0.26357363 0.06492249 0.21685838]\n",
      "网络认为图片的数字是： 4\n",
      "该图片对应的数字为: 9\n",
      "[0.00900593 0.10548729 0.00664351 0.09335675 0.32498704 0.01867609\n",
      " 0.1065746  0.03434573 0.04516477 0.05992229]\n",
      "网络认为图片的数字是： 4\n",
      "该图片对应的数字为: 5\n",
      "[0.10480399 0.22086268 0.12968527 0.00254439 0.21093408 0.02796024\n",
      " 0.09195908 0.01590272 0.02274215 0.00251742]\n",
      "网络认为图片的数字是： 1\n",
      "该图片对应的数字为: 9\n",
      "[0.04182288 0.01246093 0.01245654 0.00387498 0.2373287  0.04302749\n",
      " 0.03575121 0.32526268 0.01719762 0.27202291]\n",
      "网络认为图片的数字是： 7\n",
      "[1, 0, 1, 1, 1, 1, 1, 0, 0, 0]\n"
     ]
    }
   ],
   "source": [
    "#加入epocs,设定网络的训练循环次数\n",
    "epochs = 5\n",
    "for e in range(epochs):\n",
    "    #把数据依靠','区分，并分别读入\n",
    "    for record in training_data_list:\n",
    "        all_values = record.split(',')\n",
    "        inputs = (numpy.asfarray(all_values[1:]))/255.0 * 0.99 + 0.01\n",
    "        #设置图片与数值的对应关系\n",
    "        targets = numpy.zeros(output_nodes) + 0.01\n",
    "        targets[int(all_values[0])] = 0.99\n",
    "        n.train(inputs, targets)\n",
    "\n",
    "test_data_file = open(\"dataset/mnist_test.csv\")\n",
    "test_data_list = test_data_file.readlines()\n",
    "test_data_file.close()\n",
    "scores = []\n",
    "for record in test_data_list:\n",
    "    all_values = record.split(',')\n",
    "    correct_number = int(all_values[0])\n",
    "    print(\"该图片对应的数字为:\",correct_number)\n",
    "    #预处理数字图片\n",
    "    inputs = (numpy.asfarray(all_values[1:])) / 255.0 * 0.99 + 0.01\n",
    "    #让网络判断图片对应的数字\n",
    "    outputs = n.query(inputs)\n",
    "    #找到数值最大的神经元对应的编号\n",
    "    label = numpy.argmax(outputs)\n",
    "    print(\"网络认为图片的数字是：\", label)\n",
    "    if label == correct_number:\n",
    "        scores.append(1)\n",
    "    else:\n",
    "        scores.append(0)\n",
    "print(scores)\n",
    "\n"
   ],
   "metadata": {
    "collapsed": false,
    "ExecuteTime": {
     "end_time": "2024-07-10T12:35:44.297047Z",
     "start_time": "2024-07-10T12:35:43.657394Z"
    }
   },
   "id": "a3a459770986499f",
   "execution_count": 3
  },
  {
   "cell_type": "markdown",
   "source": [
    "4. 判断成功率"
   ],
   "metadata": {
    "collapsed": false
   },
   "id": "f8b3330ff212df9f"
  },
  {
   "cell_type": "code",
   "outputs": [
    {
     "name": "stdout",
     "output_type": "stream",
     "text": [
      "perfermance =  0.6\n"
     ]
    }
   ],
   "source": [
    "#计算图片判断的成功率\n",
    "scores_array = numpy.asarray(scores)\n",
    "print(\"perfermance = \", scores_array.sum() / scores_array.size)"
   ],
   "metadata": {
    "collapsed": false,
    "ExecuteTime": {
     "end_time": "2024-07-10T12:35:44.312557Z",
     "start_time": "2024-07-10T12:35:44.299046Z"
    }
   },
   "id": "b3bf3006a5086fe6",
   "execution_count": 4
  }
 ],
 "metadata": {
  "kernelspec": {
   "display_name": "Python 3",
   "language": "python",
   "name": "python3"
  },
  "language_info": {
   "codemirror_mode": {
    "name": "ipython",
    "version": 2
   },
   "file_extension": ".py",
   "mimetype": "text/x-python",
   "name": "python",
   "nbconvert_exporter": "python",
   "pygments_lexer": "ipython2",
   "version": "2.7.6"
  }
 },
 "nbformat": 4,
 "nbformat_minor": 5
}
