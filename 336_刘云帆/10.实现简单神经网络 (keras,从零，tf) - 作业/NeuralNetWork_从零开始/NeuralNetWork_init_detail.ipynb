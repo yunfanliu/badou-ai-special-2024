{
 "cells": [
  {
   "cell_type": "markdown",
   "source": [
    "目的：神经网络的设计思路，怎么一步一步的构造出来"
   ],
   "metadata": {
    "collapsed": false
   },
   "id": "9ff5e821385b48ef"
  },
  {
   "cell_type": "code",
   "outputs": [],
   "source": [
    "[1]\n",
    "'''\n",
    "我们先给出如下代码框架：\n",
    "'''\n",
    "class  NeuralNetWork:\n",
    "    def __init__(self):\n",
    "        #初始化网络，设置输入层，中间层，和输出层节点数\n",
    "        pass\n",
    "    def  train(self):\n",
    "        #根据输入的训练数据更新节点链路权重\n",
    "        pass\n",
    "    def  query(self):\n",
    "        #根据输入数据计算并输出答案\n",
    "        pass\n",
    "        "
   ],
   "metadata": {
    "collapsed": false
   },
   "id": "5254928b20cae5f5"
  },
  {
   "cell_type": "code",
   "execution_count": null,
   "id": "initial_id",
   "metadata": {
    "collapsed": true
   },
   "outputs": [],
   "source": [
    "\n",
    "[2]\n",
    "'''\n",
    "我们先完成初始化函数，我们需要在这里设置输入层，中间层和输出层的节点数，这样就能决定网络的形状和大小。\n",
    "当然我们不能把这些设置都写死，而是根据输入参数来动态设置网络的形态。\n",
    "由此我们把初始化函数修正如下：\n",
    "'''\n",
    "class  NeuralNetWork:\n",
    "    def __init__(self, inputnodes, hiddennodes, outputnodes, learningrate):\n",
    "        #初始化网络，设置输入层，中间层，和输出层节点数\n",
    "        self.inodes = inputnodes\n",
    "        self.hnodes = hiddennodes\n",
    "        self.onodes = outputnodes\n",
    "\n",
    "        #设置学习率\n",
    "        self.lr = learningrate\n",
    "        #\n",
    "        pass\n",
    "    def  train(self):\n",
    "        #根据输入的训练数据更新节点链路权重\n",
    "        pass\n",
    "    def  query(self):\n",
    "        #根据输入数据计算并输出答案\n",
    "        pass\n",
    "\n"
   ]
  },
  {
   "cell_type": "code",
   "outputs": [],
   "source": [
    "[3]\n",
    "'''\n",
    "此处举例说明：\n",
    "如此我们就可以初始化一个3层网络，输入层，中间层和输出层都有3个节点\n",
    "'''\n",
    "input_nodes = 3\n",
    "hidden_nodes = 3\n",
    "output_nodes = 3\n",
    "\n",
    "learning_rate = 0.3\n",
    "n = NeuralNetWork(input_nodes, hidden_nodes, output_nodes, learning_rate)\n",
    "\n",
    "\n",
    "\n",
    "\n",
    "\n"
   ],
   "metadata": {
    "collapsed": false
   },
   "id": "93611903eab6db96"
  },
  {
   "cell_type": "code",
   "outputs": [],
   "source": [
    "[4]\n",
    "'''\n",
    "初始化权重矩阵。\n",
    "由于权重不一定都是正的，它完全可以是负数，因此我们在初始化时，把所有权重初始化为-0.5到0.5之间\n",
    "'''\n",
    "def __init__(self, inputnodes, hiddennodes, outputnodes, learningrate):\n",
    "        #初始化网络，设置输入层，中间层，和输出层节点数\n",
    "        self.inodes = inputnodes\n",
    "        self.hnodes = hiddennodes\n",
    "        self.onodes = outputnodes\n",
    "\n",
    "        #设置学习率\n",
    "        self.lr = learningrate\n",
    "        '''\n",
    "        初始化权重矩阵，我们有两个权重矩阵，一个是wih表示输入层和中间层节点间链路权重形成的矩阵\n",
    "        一个是who,表示中间层和输出层间链路权重形成的矩阵\n",
    "        '''\n",
    "        self.wih = numpy.random.rand(self.hnodes, self.inodes) - 0.5\n",
    "        self.who = numpy.random.rand(self.onodes, self.hnodes) - 0.5\n",
    "\n",
    "        pass\n",
    "\n"
   ],
   "metadata": {
    "collapsed": false
   },
   "id": "e80650b4f4085ac4"
  },
  {
   "cell_type": "code",
   "outputs": [],
   "source": [
    "[5]\n",
    "'''\n",
    "接着我们先看query函数的实现，它接收输入数据，通过神经网络的层层计算后，在输出层输出最终结果。\n",
    "输入数据要依次经过输入层，中间层，和输出层，并且在每层的节点中还得执行激活函数以便形成对下一层节点的输出信号。\n",
    "我们知道可以通过矩阵运算把这一系列复杂的运算流程给统一起来。\n",
    "'''\n",
    "import numpy\n",
    " def  query(self, inputs):\n",
    "        #根据输入数据计算并输出答案\n",
    "        hidden_inputs = numpy.dot(self.wih, inputs)\n",
    "        pass\n",
    "\n",
    "\n",
    "        \n"
   ],
   "metadata": {
    "collapsed": false
   },
   "id": "99f1751f4bfc8194"
  },
  {
   "cell_type": "code",
   "outputs": [],
   "source": [
    "[6]\n",
    "'''\n",
    "hidden是个一维向量，每个元素对应着中间层某个节点从上一层神经元传过来后的信号量总和.\n",
    "于是每个节点就得执行激活函数，得到的结果将作为信号输出到下一层.\n",
    "sigmod函数在Python中可以直接调用，我们要做的就是准备好参数。\n",
    "我们先把这个函数在初始化函数中设定好，\n",
    "'''\n",
    "import scipy.special\n",
    "\n",
    "class  NeuralNetWork:\n",
    "    def __init__(self, inputnodes, hiddennodes, outputnodes, learningrate):\n",
    "        #初始化网络，设置输入层，中间层，和输出层节点数\n",
    "        self.inodes = inputnodes\n",
    "        self.hnodes = hiddennodes\n",
    "        self.onodes = outputnodes\n",
    "\n",
    "        #设置学习率\n",
    "        self.lr = learningrate\n",
    "        '''\n",
    "        初始化权重矩阵，我们有两个权重矩阵，一个是wih表示输入层和中间层节点间链路权重形成的矩阵\n",
    "        一个是who,表示中间层和输出层间链路权重形成的矩阵\n",
    "        '''\n",
    "        self.wih = numpy.random.rand(self.hnodes, self.inodes) - 0.5\n",
    "        self.who = numpy.random.rand(self.onodes, self.inodes) - 0.5\n",
    "\n",
    "        '''\n",
    "        scipy.special.expit对应的是sigmod函数.\n",
    "        lambda是Python关键字，类似C语言中的宏定义.\n",
    "        我们调用self.activation_function(x)时，编译器会把其转换为spicy.special_expit(x)。\n",
    "        '''\n",
    "        self.activation_function = lambda x:scipy.special.expit(x)\n",
    "\n",
    "        pass\n",
    "\n",
    "'''\n",
    "由此我们就可以分别调用激活函数计算中间层的输出信号，以及输出层经过激活函数后形成的输出信号，\n",
    "'''\n",
    "def  query(self, inputs):\n",
    "        #根据输入数据计算并输出答案\n",
    "        #计算中间层从输入层接收到的信号量\n",
    "        hidden_inputs = numpy.dot(self.wih, inputs)\n",
    "        #计算中间层经过激活函数后形成的输出信号量\n",
    "        hidden_outputs = self.activation_function(hidden_inputs)\n",
    "        #计算最外层接收到的信号量\n",
    "        final_inputs = numpy.dot(self.who, hidden_outputs)\n",
    "        #计算最外层神经元经过激活函数后输出的信号量\n",
    "        final_outputs = self.activation_function(final_inputs)\n",
    "        print(final_outputs)\n",
    "        return final_outputs"
   ],
   "metadata": {
    "collapsed": false
   },
   "id": "5c1a19181d7244ce"
  }
 ],
 "metadata": {
  "kernelspec": {
   "display_name": "Python 3",
   "language": "python",
   "name": "python3"
  },
  "language_info": {
   "codemirror_mode": {
    "name": "ipython",
    "version": 2
   },
   "file_extension": ".py",
   "mimetype": "text/x-python",
   "name": "python",
   "nbconvert_exporter": "python",
   "pygments_lexer": "ipython2",
   "version": "2.7.6"
  }
 },
 "nbformat": 4,
 "nbformat_minor": 5
}
