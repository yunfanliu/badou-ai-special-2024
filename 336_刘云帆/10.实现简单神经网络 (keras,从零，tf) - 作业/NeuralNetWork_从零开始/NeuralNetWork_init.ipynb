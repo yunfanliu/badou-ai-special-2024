{
 "cells": [
  {
   "cell_type": "markdown",
   "source": [
    "目的：验证自己设计的网络结构（参数，querty）是否正常"
   ],
   "metadata": {
    "collapsed": false
   },
   "id": "bf88a95a3377503b"
  },
  {
   "cell_type": "markdown",
   "source": [
    "1. 构建神经网络的 参数  验证  部分"
   ],
   "metadata": {
    "collapsed": false
   },
   "id": "26d02f674e571f97"
  },
  {
   "cell_type": "code",
   "execution_count": 1,
   "id": "initial_id",
   "metadata": {
    "collapsed": true,
    "ExecuteTime": {
     "end_time": "2024-07-10T12:40:03.106162Z",
     "start_time": "2024-07-10T12:40:02.927455Z"
    }
   },
   "outputs": [],
   "source": [
    "import scipy.special\n",
    "import numpy\n",
    "\n",
    "class  NeuralNetWork:\n",
    "    def __init__(self, inputnodes, hiddennodes, outputnodes, learningrate):\n",
    "        #初始化网络，设置输入层，中间层，和输出层节点数\n",
    "        self.inodes = inputnodes\n",
    "        self.hnodes = hiddennodes\n",
    "        self.onodes = outputnodes\n",
    "\n",
    "        #设置学习率\n",
    "        self.lr = learningrate\n",
    "        '''\n",
    "        初始化权重矩阵，我们有两个权重矩阵，一个是wih表示输入层和中间层节点间链路权重形成的矩阵\n",
    "        一个是who,表示中间层和输出层间链路权重形成的矩阵\n",
    "        '''\n",
    "        self.wih = numpy.random.rand(self.hnodes, self.inodes) - 0.5\n",
    "        self.who = numpy.random.rand(self.onodes, self.hnodes) - 0.5\n",
    "\n",
    "        '''\n",
    "        scipy.special.expit对应的是sigmod函数.\n",
    "        lambda是Python关键字，类似C语言中的宏定义，当我们调用self.activation_function(x)时，编译器会把其转换为spicy.special_expit(x)。\n",
    "        '''\n",
    "        self.activation_function = lambda x:scipy.special.expit(x)\n",
    "        pass\n",
    "        \n",
    "    def  train(self):\n",
    "        #根据输入的训练数据更新节点链路权重\n",
    "        pass\n",
    "        \n",
    "    def  query(self, inputs):\n",
    "        #根据输入数据计算并输出答案\n",
    "        #计算中间层从输入层接收到的信号量\n",
    "        hidden_inputs = numpy.dot(self.wih, inputs)\n",
    "        #计算中间层经过激活函数后形成的输出信号量\n",
    "        hidden_outputs = self.activation_function(hidden_inputs)\n",
    "        #计算最外层接收到的信号量\n",
    "        final_inputs = numpy.dot(self.who, hidden_outputs)\n",
    "        #计算最外层神经元经过激活函数后输出的信号量\n",
    "        final_outputs = self.activation_function(final_inputs)\n",
    "        print(final_outputs)\n",
    "        return final_outputs\n",
    "\n",
    "\n"
   ]
  },
  {
   "cell_type": "markdown",
   "source": [
    "2. 验证参数和query部分是否正常"
   ],
   "metadata": {
    "collapsed": false
   },
   "id": "fd70d7b2d5e8a2de"
  },
  {
   "cell_type": "code",
   "outputs": [
    {
     "name": "stdout",
     "output_type": "stream",
     "text": [
      "[0.47138698 0.62223194 0.59737684]\n"
     ]
    },
    {
     "data": {
      "text/plain": "array([0.47138698, 0.62223194, 0.59737684])"
     },
     "execution_count": 2,
     "metadata": {},
     "output_type": "execute_result"
    }
   ],
   "source": [
    "'''\n",
    "我们尝试传入一些数据，让神经网络输出结果试试.\n",
    "程序当前运行结果并没有太大意义，但是至少表明，我们到目前为止写下的代码没有太大问题，\n",
    "'''\n",
    "input_nodes = 3\n",
    "hidden_nodes = 3\n",
    "output_nodes = 3\n",
    "\n",
    "learning_rate = 0.3\n",
    "n = NeuralNetWork(input_nodes, hidden_nodes, output_nodes, learning_rate)\n",
    "n.query([1.0, 0.5, -1.5])"
   ],
   "metadata": {
    "collapsed": false,
    "ExecuteTime": {
     "end_time": "2024-07-10T12:40:03.122144Z",
     "start_time": "2024-07-10T12:40:03.108201Z"
    }
   },
   "id": "1289f5259f253516",
   "execution_count": 2
  }
 ],
 "metadata": {
  "kernelspec": {
   "display_name": "Python 3",
   "language": "python",
   "name": "python3"
  },
  "language_info": {
   "codemirror_mode": {
    "name": "ipython",
    "version": 2
   },
   "file_extension": ".py",
   "mimetype": "text/x-python",
   "name": "python",
   "nbconvert_exporter": "python",
   "pygments_lexer": "ipython2",
   "version": "2.7.6"
  }
 },
 "nbformat": 4,
 "nbformat_minor": 5
}
