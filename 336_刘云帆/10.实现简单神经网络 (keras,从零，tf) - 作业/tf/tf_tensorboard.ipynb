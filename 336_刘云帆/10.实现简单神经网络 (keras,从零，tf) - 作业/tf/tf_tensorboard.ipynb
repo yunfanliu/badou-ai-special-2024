{
 "cells": [
  {
   "cell_type": "markdown",
   "source": [
    "目的：了解TensorBoard是一个可视化工具，它可以用来展示网络图、张量的指标变化、张量的分布情况等。特别是在训练网络的时候，我们可以设置不同的参数（比如：权重W、偏置B、卷积层数、全连接层数等），使用TensorBoader可以很直观的帮我们进行参数的选择。\n",
    "\n",
    "本系列文章一共四篇，由浅入深，以常见的Mnist数据集为实验对象，从实现最简单TensorBoard开始，逐步增加参数、复杂度，最后实现使用TensorBoard工具可视化调参的功能。\n",
    "\n",
    "TensorBoard的使用一共可分成四步：\n",
    "\n",
    "设置保存路径：tenboard_dir = './tensorboard/test1/'\n",
    "指定一个文件用来保存TensorFlow的图：writer = tf.summary.FileWriter(tenboard_dir + hparam)\n",
    "把图add进去：writer.add_graph(sess.graph)\n",
    "进入test1文件夹的上一层文件夹，在DOS窗口运行命令：tensorboard --logdir=./test1\n"
   ],
   "metadata": {
    "collapsed": false
   },
   "id": "690a8d76ab29829"
  },
  {
   "cell_type": "code",
   "execution_count": null,
   "id": "initial_id",
   "metadata": {
    "collapsed": true
   },
   "outputs": [],
   "source": [
    "import tensorflow as tf  \n",
    "\n",
    "# 定义一个计算图，实现两个向量的减法操作  \n",
    "# 定义两个输入，a为常量，b为变量  \n",
    "a=tf.constant([10.0, 20.0, 40.0], name='a')  \n",
    "b=tf.Variable(tf.random_uniform([3]), name='b')  \n",
    "output=tf.add_n([a,b], name='add')  \n",
    "\n",
    "# 生成一个具有写权限的日志文件操作对象，将当前命名空间的计算图写进日志中  \n",
    "writer=tf.summary.FileWriter('logs', tf.get_default_graph()) \n",
    "writer.close()\n",
    "\n",
    "#启动tensorboard服务（在命令行启动）\n",
    "#tensorboard --logdir logs\n",
    "\n",
    "#启动tensorboard服务后，复制地址并在本地浏览器中打开，\n"
   ]
  }
 ],
 "metadata": {
  "kernelspec": {
   "display_name": "Python 3",
   "language": "python",
   "name": "python3"
  },
  "language_info": {
   "codemirror_mode": {
    "name": "ipython",
    "version": 2
   },
   "file_extension": ".py",
   "mimetype": "text/x-python",
   "name": "python",
   "nbconvert_exporter": "python",
   "pygments_lexer": "ipython2",
   "version": "2.7.6"
  }
 },
 "nbformat": 4,
 "nbformat_minor": 5
}
