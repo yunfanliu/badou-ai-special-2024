{
 "cells": [
  {
   "cell_type": "markdown",
   "source": [
    "目的：理解TensorFlow中的Graph（计算图）"
   ],
   "metadata": {
    "collapsed": false
   },
   "id": "a24c29208ce36a42"
  },
  {
   "cell_type": "code",
   "execution_count": 1,
   "id": "initial_id",
   "metadata": {
    "collapsed": true,
    "ExecuteTime": {
     "end_time": "2024-07-10T13:38:47.602540Z",
     "start_time": "2024-07-10T13:38:45.839145Z"
    }
   },
   "outputs": [
    {
     "name": "stdout",
     "output_type": "stream",
     "text": [
      "WARNING:tensorflow:From C:\\Users\\27569\\AppData\\Local\\Temp\\ipykernel_6472\\3834383988.py:22: The name tf.Session is deprecated. Please use tf.compat.v1.Session instead.\n",
      "\n",
      "[[12.]]\n"
     ]
    },
    {
     "data": {
      "text/plain": "'\\nsession对象在使用完后需要关闭以释放资源. 除了显式调用 close 外, 也可以使用 “with” 代码块来自动完成关闭动作.\\n\\nwith tf.Session() as sess:\\n  result = sess.run([product])\\n  print (result)\\n'"
     },
     "execution_count": 1,
     "metadata": {},
     "output_type": "execute_result"
    }
   ],
   "source": [
    "import tensorflow as tf\n",
    "\n",
    "# TensorFlow Python 库有一个默认图 (default graph), op 构造器可以为其增加节点. \n",
    "# 这个默认图对许多程序来说已经足够用了. \n",
    "# 创建一个常量 op, 产生一个 1x2 矩阵. 这个 op 被作为一个节点加到默认图中.\n",
    "#\n",
    "# 构造器的返回值代表该常量 op 的返回值.\n",
    "matrix1 = tf.constant([[3., 3.]])\n",
    "# 创建另外一个常量 op, 产生一个 2x1 矩阵.\n",
    "matrix2 = tf.constant([[2.],[2.]])\n",
    "\n",
    "# 创建一个矩阵乘法 matmul op , 把 'matrix1' 和 'matrix2' 作为输入.\n",
    "# 返回值 'product' 代表矩阵乘法的结果.\n",
    "product = tf.matmul(matrix1, matrix2)\n",
    "\n",
    "'''\n",
    "默认图现在有三个节点, 两个 constant() op, 和一个matmul() op. \n",
    "为了真正进行矩阵相乘运算, 并得到矩阵乘法的结果, 必须在会话里启动这个图.\n",
    "启动图的第一步是创建一个 Session 对象, 如果无任何创建参数, 会话构造器将启动默认图.\n",
    "'''\n",
    "# 启动默认图.\n",
    "sess = tf.Session()\n",
    "\n",
    "# 调用 sess 的 'run()' 方法来执行矩阵乘法 op, 传入 'product' 作为该方法的参数. \n",
    "# 'product' 代表了矩阵乘法 op 的输出, 传入它是向方法表明, 我们希望取回矩阵乘法 op 的输出.\n",
    "#\n",
    "# 整个执行过程是自动化的, 会话负责传递 op 所需的全部输入. op 通常是并发执行的.\n",
    "# \n",
    "# 函数调用 'run(product)' 触发了图中三个 op (两个常量 op 和一个矩阵乘法 op) 的执行.\n",
    "#\n",
    "# 返回值 'result' 是一个 numpy `ndarray` 对象.\n",
    "result = sess.run(product)\n",
    "print(result)\n",
    "# ==> [[ 12.]]\n",
    "\n",
    "# 任务完成, 关闭会话.\n",
    "sess.close()\n",
    "'''\n",
    "session对象在使用完后需要关闭以释放资源. 除了显式调用 close 外, 也可以使用 “with” 代码块来自动完成关闭动作.\n",
    "\n",
    "with tf.Session() as sess:\n",
    "  result = sess.run([product])\n",
    "  print (result)\n",
    "'''\n",
    "\n",
    "\n",
    "\n",
    "\n"
   ]
  }
 ],
 "metadata": {
  "kernelspec": {
   "display_name": "Python 3",
   "language": "python",
   "name": "python3"
  },
  "language_info": {
   "codemirror_mode": {
    "name": "ipython",
    "version": 2
   },
   "file_extension": ".py",
   "mimetype": "text/x-python",
   "name": "python",
   "nbconvert_exporter": "python",
   "pygments_lexer": "ipython2",
   "version": "2.7.6"
  }
 },
 "nbformat": 4,
 "nbformat_minor": 5
}
