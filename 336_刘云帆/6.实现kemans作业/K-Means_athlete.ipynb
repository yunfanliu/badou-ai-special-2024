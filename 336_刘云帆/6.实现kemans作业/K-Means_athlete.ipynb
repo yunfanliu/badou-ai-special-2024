{
 "cells": [
  {
   "cell_type": "markdown",
   "source": [
    "目的：使用sklearn库对数据进行聚类分析"
   ],
   "metadata": {
    "collapsed": false
   },
   "id": "a2a586078fdb5ac4"
  },
  {
   "cell_type": "markdown",
   "source": [
    "1. 导入库"
   ],
   "metadata": {
    "collapsed": false
   },
   "id": "f426f58fa6182c23"
  },
  {
   "cell_type": "code",
   "execution_count": 1,
   "id": "initial_id",
   "metadata": {
    "collapsed": true,
    "ExecuteTime": {
     "end_time": "2024-05-16T08:23:36.591112Z",
     "start_time": "2024-05-16T08:23:35.911606Z"
    }
   },
   "outputs": [],
   "source": [
    "from sklearn.cluster import KMeans"
   ]
  },
  {
   "cell_type": "markdown",
   "source": [
    "2. 准备数据"
   ],
   "metadata": {
    "collapsed": false
   },
   "id": "f1779eb98c77e4ca"
  },
  {
   "cell_type": "code",
   "outputs": [
    {
     "name": "stdout",
     "output_type": "stream",
     "text": [
      "[[0.0888, 0.5885], [0.1399, 0.8291], [0.0747, 0.4974], [0.0983, 0.5772], [0.1276, 0.5703], [0.1671, 0.5835], [0.1306, 0.5276], [0.1061, 0.5523], [0.2446, 0.4007], [0.167, 0.477], [0.2485, 0.4313], [0.1227, 0.4909], [0.124, 0.5668], [0.1461, 0.5113], [0.2315, 0.3788], [0.0494, 0.559], [0.1107, 0.4799], [0.1121, 0.5735], [0.1007, 0.6318], [0.2567, 0.4326], [0.1956, 0.428]]\n"
     ]
    }
   ],
   "source": [
    "\"\"\"\n",
    "第一部分：数据集\n",
    "X表示二维矩阵数据，篮球运动员比赛数据\n",
    "总共20行，每行两列数据\n",
    "第一列表示球员每分钟助攻数：assists_per_minute\n",
    "第二列表示球员每分钟得分数：points_per_minute\n",
    "\"\"\"\n",
    "X = [[0.0888, 0.5885],\n",
    "     [0.1399, 0.8291],\n",
    "     [0.0747, 0.4974],\n",
    "     [0.0983, 0.5772],\n",
    "     [0.1276, 0.5703],\n",
    "     [0.1671, 0.5835],\n",
    "     [0.1306, 0.5276],\n",
    "     [0.1061, 0.5523],\n",
    "     [0.2446, 0.4007],\n",
    "     [0.1670, 0.4770],\n",
    "     [0.2485, 0.4313],\n",
    "     [0.1227, 0.4909],\n",
    "     [0.1240, 0.5668],\n",
    "     [0.1461, 0.5113],\n",
    "     [0.2315, 0.3788],\n",
    "     [0.0494, 0.5590],\n",
    "     [0.1107, 0.4799],\n",
    "     [0.1121, 0.5735],\n",
    "     [0.1007, 0.6318],\n",
    "     [0.2567, 0.4326],\n",
    "     [0.1956, 0.4280]   \n",
    "    ]\n",
    " \n",
    "#输出数据集\n",
    "print (X)"
   ],
   "metadata": {
    "collapsed": false,
    "ExecuteTime": {
     "end_time": "2024-05-16T08:23:36.606569Z",
     "start_time": "2024-05-16T08:23:36.592123Z"
    }
   },
   "id": "b1dd25cc3d8e48e6",
   "execution_count": 2
  },
  {
   "cell_type": "markdown",
   "source": [
    "2. 调用KMeans类，并设置参数"
   ],
   "metadata": {
    "collapsed": false
   },
   "id": "ac1cb86d5064eb19"
  },
  {
   "cell_type": "code",
   "outputs": [
    {
     "name": "stdout",
     "output_type": "stream",
     "text": [
      "KMeans(n_clusters=3)\n",
      "y_pred =  [0 2 0 0 0 0 0 0 1 1 1 0 0 0 1 0 0 0 0 1 1]\n"
     ]
    }
   ],
   "source": [
    "\"\"\"\n",
    "第二部分：KMeans聚类\n",
    "clf = KMeans(n_clusters=3) 表示类簇数为3，聚成3类数据，clf即赋值为KMeans\n",
    "y_pred = clf.fit_predict(X) 载入数据集X，并且将聚类的结果赋值给y_pred\n",
    "\"\"\"\n",
    "\n",
    "clf = KMeans(n_clusters=3)\n",
    "y_pred = clf.fit_predict(X)\n",
    " \n",
    "#输出完整Kmeans函数，包括很多省略参数\n",
    "print(clf)\n",
    "#输出聚类预测结果\n",
    "print(\"y_pred = \",y_pred)\n",
    " "
   ],
   "metadata": {
    "collapsed": false,
    "ExecuteTime": {
     "end_time": "2024-05-16T08:23:36.653377Z",
     "start_time": "2024-05-16T08:23:36.608750Z"
    }
   },
   "id": "2e71893318ad2f6b",
   "execution_count": 3
  },
  {
   "cell_type": "markdown",
   "source": [
    "3. 绘制可视化图像"
   ],
   "metadata": {
    "collapsed": false
   },
   "id": "5a918ac88cb5801b"
  },
  {
   "cell_type": "code",
   "outputs": [
    {
     "name": "stdout",
     "output_type": "stream",
     "text": [
      "[0.0888, 0.1399, 0.0747, 0.0983, 0.1276, 0.1671, 0.1306, 0.1061, 0.2446, 0.167, 0.2485, 0.1227, 0.124, 0.1461, 0.2315, 0.0494, 0.1107, 0.1121, 0.1007, 0.2567, 0.1956]\n",
      "[0.5885, 0.8291, 0.4974, 0.5772, 0.5703, 0.5835, 0.5276, 0.5523, 0.4007, 0.477, 0.4313, 0.4909, 0.5668, 0.5113, 0.3788, 0.559, 0.4799, 0.5735, 0.6318, 0.4326, 0.428]\n"
     ]
    },
    {
     "data": {
      "text/plain": "<Figure size 640x480 with 1 Axes>",
      "image/png": "[encoded data removed]"
     },
     "metadata": {},
     "output_type": "display_data"
    }
   ],
   "source": [
    "\"\"\"\n",
    "第三部分：可视化绘图\n",
    "\"\"\"\n",
    "\n",
    "import numpy as np\n",
    "import matplotlib.pyplot as plt\n",
    "\n",
    "#获取数据集的第一列和第二列数据 使用for循环获取 n[0]表示X第一列\n",
    "x = [n[0] for n in X]\n",
    "print (x)\n",
    "y = [n[1] for n in X]\n",
    "print (y)\n",
    "\n",
    "''' \n",
    "绘制散点图 \n",
    "参数：x横轴; y纵轴; c=y_pred聚类预测结果; marker类型:o表示圆点,*表示星型,x表示点;\n",
    "'''\n",
    "plt.scatter(x, y, c=y_pred, marker='x')\n",
    " \n",
    "#绘制标题\n",
    "plt.title(\"Kmeans-Basketball Data\")\n",
    " \n",
    "#绘制x轴和y轴坐标\n",
    "plt.xlabel(\"assists_per_minute\")\n",
    "plt.ylabel(\"points_per_minute\")\n",
    " \n",
    "#设置右上角图例\n",
    "plt.legend([\"A\",\"B\",\"C\"])\n",
    " \n",
    "#显示图形\n",
    "plt.show()"
   ],
   "metadata": {
    "collapsed": false,
    "ExecuteTime": {
     "end_time": "2024-05-16T08:23:37.385454Z",
     "start_time": "2024-05-16T08:23:36.654379Z"
    }
   },
   "id": "fed67c17181d7295",
   "execution_count": 4
  },
  {
   "cell_type": "markdown",
   "source": [],
   "metadata": {
    "collapsed": false
   },
   "id": "78f30a72c1be45fd"
  }
 ],
 "metadata": {
  "kernelspec": {
   "display_name": "Python 3",
   "language": "python",
   "name": "python3"
  },
  "language_info": {
   "codemirror_mode": {
    "name": "ipython",
    "version": 2
   },
   "file_extension": ".py",
   "mimetype": "text/x-python",
   "name": "python",
   "nbconvert_exporter": "python",
   "pygments_lexer": "ipython2",
   "version": "2.7.6"
  }
 },
 "nbformat": 4,
 "nbformat_minor": 5
}
